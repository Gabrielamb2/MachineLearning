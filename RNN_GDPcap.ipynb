{
 "cells": [
  {
   "cell_type": "code",
   "execution_count": 109,
   "metadata": {
    "id": "496ahFMTJGw-"
   },
   "outputs": [],
   "source": [
    "import numpy as np\n",
    "import pandas as pd\n",
    "import matplotlib.pyplot as plt\n",
    "import seaborn as sns\n",
    "import numpy as np\n",
    "\n",
    "from matplotlib.colors import ListedColormap\n",
    "import folium\n",
    "from folium.plugins import MarkerCluster,HeatMap,HeatMapWithTime\n",
    "import branca.colormap as colormap\n",
    "from collections import defaultdict\n",
    "\n",
    "import tensorflow as tf\n",
    "from tensorflow.keras.models import Sequential\n",
    "from tensorflow.keras.layers import Dense\n",
    "from tensorflow.keras.layers import LSTM\n",
    "from sklearn.preprocessing import MinMaxScaler\n",
    "from sklearn.metrics import mean_squared_error\n",
    "\n",
    "import pandas as pd\n",
    "import geopandas as gpd\n",
    "from shapely.geometry import Point"
   ]
  },
  {
   "cell_type": "code",
   "execution_count": 110,
   "metadata": {
    "colab": {
     "base_uri": "https://localhost:8080/"
    },
    "id": "hLRhyEdJJS4c",
    "outputId": "9681dd22-6dbb-4e8a-d819-bcbc1234de3b"
   },
   "outputs": [
    {
     "name": "stdout",
     "output_type": "stream",
     "text": [
      "No GPU was detected. LSTMs and CNNs can be very slow without a GPU.\n"
     ]
    }
   ],
   "source": [
    "# Python ≥3.5 is required\n",
    "import sys\n",
    "assert sys.version_info >= (3, 5)\n",
    "\n",
    "# Scikit-Learn ≥0.20 is required\n",
    "import sklearn\n",
    "assert sklearn.__version__ >= \"0.20\"\n",
    "\n",
    "try:\n",
    "    # %tensorflow_version only exists in Colab.\n",
    "    %tensorflow_version 2.x\n",
    "    IS_COLAB = True\n",
    "except Exception:\n",
    "    IS_COLAB = False\n",
    "\n",
    "# TensorFlow ≥2.0 is required\n",
    "import tensorflow as tf\n",
    "from tensorflow import keras\n",
    "assert tf.__version__ >= \"2.0\"\n",
    "\n",
    "if not tf.config.list_physical_devices('GPU'):\n",
    "    print(\"No GPU was detected. LSTMs and CNNs can be very slow without a GPU.\")\n",
    "    if IS_COLAB:\n",
    "        print(\"Go to Runtime > Change runtime and select a GPU hardware accelerator.\")\n",
    "\n",
    "# Common imports\n",
    "import numpy as np\n",
    "import os\n",
    "from pathlib import Path\n",
    "\n",
    "# to make this notebook's output stable across runs\n",
    "np.random.seed(42)\n",
    "tf.random.set_seed(42)\n",
    "\n",
    "# To plot pretty figures\n",
    "%matplotlib inline\n",
    "import matplotlib as mpl\n",
    "import matplotlib.pyplot as plt\n",
    "mpl.rc('axes', labelsize=14)\n",
    "mpl.rc('xtick', labelsize=12)\n",
    "mpl.rc('ytick', labelsize=12)\n",
    "\n",
    "# Where to save the figures\n",
    "PROJECT_ROOT_DIR = \".\"\n",
    "CHAPTER_ID = \"rnn\"\n",
    "IMAGES_PATH = os.path.join(PROJECT_ROOT_DIR, \"images\", CHAPTER_ID)\n",
    "os.makedirs(IMAGES_PATH, exist_ok=True)\n",
    "\n",
    "def save_fig(fig_id, tight_layout=True, fig_extension=\"png\", resolution=300):\n",
    "    path = os.path.join(IMAGES_PATH, fig_id + \".\" + fig_extension)\n",
    "    print(\"Saving figure\", fig_id)\n",
    "    if tight_layout:\n",
    "        plt.tight_layout()\n",
    "    plt.savefig(path, format=fig_extension, dpi=resolution)"
   ]
  },
  {
   "cell_type": "code",
   "execution_count": 111,
   "metadata": {
    "id": "xiyXWOoRJYq0"
   },
   "outputs": [],
   "source": [
    "RANDOM_SEED = 42\n",
    "# np.random.seed(RANDOM_SEED)\n",
    "# tf.random.set_seed(7)\n",
    "np.random.seed(42)\n",
    "tf.random.set_seed(42)"
   ]
  },
  {
   "cell_type": "code",
   "execution_count": 112,
   "metadata": {},
   "outputs": [],
   "source": [
    "df_latlong = pd.read_csv('countries.csv')"
   ]
  },
  {
   "cell_type": "code",
   "execution_count": null,
   "metadata": {},
   "outputs": [],
   "source": []
  },
  {
   "cell_type": "code",
   "execution_count": 113,
   "metadata": {},
   "outputs": [
    {
     "data": {
      "text/html": [
       "<div>\n",
       "<style scoped>\n",
       "    .dataframe tbody tr th:only-of-type {\n",
       "        vertical-align: middle;\n",
       "    }\n",
       "\n",
       "    .dataframe tbody tr th {\n",
       "        vertical-align: top;\n",
       "    }\n",
       "\n",
       "    .dataframe thead th {\n",
       "        text-align: right;\n",
       "    }\n",
       "</style>\n",
       "<table border=\"1\" class=\"dataframe\">\n",
       "  <thead>\n",
       "    <tr style=\"text-align: right;\">\n",
       "      <th></th>\n",
       "      <th>0</th>\n",
       "      <th>1</th>\n",
       "      <th>2</th>\n",
       "      <th>3</th>\n",
       "      <th>4</th>\n",
       "    </tr>\n",
       "  </thead>\n",
       "  <tbody>\n",
       "    <tr>\n",
       "      <th>Country</th>\n",
       "      <td>Afghanistan</td>\n",
       "      <td>Albania</td>\n",
       "      <td>Algeria</td>\n",
       "      <td>Andorra</td>\n",
       "      <td>Angola</td>\n",
       "    </tr>\n",
       "    <tr>\n",
       "      <th>Latitude</th>\n",
       "      <td>33.768</td>\n",
       "      <td>41</td>\n",
       "      <td>28</td>\n",
       "      <td>42.5407</td>\n",
       "      <td>-11.8776</td>\n",
       "    </tr>\n",
       "    <tr>\n",
       "      <th>Longitude</th>\n",
       "      <td>66.2385</td>\n",
       "      <td>20</td>\n",
       "      <td>2.99998</td>\n",
       "      <td>1.5732</td>\n",
       "      <td>17.5691</td>\n",
       "    </tr>\n",
       "  </tbody>\n",
       "</table>\n",
       "</div>"
      ],
      "text/plain": [
       "                     0        1        2        3        4\n",
       "Country    Afghanistan  Albania  Algeria  Andorra   Angola\n",
       "Latitude        33.768       41       28  42.5407 -11.8776\n",
       "Longitude      66.2385       20  2.99998   1.5732  17.5691"
      ]
     },
     "execution_count": 113,
     "metadata": {},
     "output_type": "execute_result"
    }
   ],
   "source": [
    "df_latlong.drop(['Importance', 'Altitude'], axis=1, inplace=True)\n",
    "df_latlong.head().T"
   ]
  },
  {
   "cell_type": "code",
   "execution_count": 114,
   "metadata": {},
   "outputs": [],
   "source": [
    "df_gdp = pd.read_csv('gdp_per_capita.csv')"
   ]
  },
  {
   "cell_type": "code",
   "execution_count": 115,
   "metadata": {
    "scrolled": true
   },
   "outputs": [],
   "source": [
    "df_gdp.drop(['Unnamed: 65', 'Code'], axis=1, inplace=True)"
   ]
  },
  {
   "cell_type": "code",
   "execution_count": 116,
   "metadata": {},
   "outputs": [
    {
     "data": {
      "text/html": [
       "<div>\n",
       "<style scoped>\n",
       "    .dataframe tbody tr th:only-of-type {\n",
       "        vertical-align: middle;\n",
       "    }\n",
       "\n",
       "    .dataframe tbody tr th {\n",
       "        vertical-align: top;\n",
       "    }\n",
       "\n",
       "    .dataframe thead th {\n",
       "        text-align: right;\n",
       "    }\n",
       "</style>\n",
       "<table border=\"1\" class=\"dataframe\">\n",
       "  <thead>\n",
       "    <tr style=\"text-align: right;\">\n",
       "      <th></th>\n",
       "      <th>0</th>\n",
       "      <th>1</th>\n",
       "      <th>2</th>\n",
       "      <th>3</th>\n",
       "      <th>4</th>\n",
       "    </tr>\n",
       "  </thead>\n",
       "  <tbody>\n",
       "    <tr>\n",
       "      <th>Country Name</th>\n",
       "      <td>Aruba</td>\n",
       "      <td>Africa Eastern and Southern</td>\n",
       "      <td>Afghanistan</td>\n",
       "      <td>Africa Western and Central</td>\n",
       "      <td>Angola</td>\n",
       "    </tr>\n",
       "    <tr>\n",
       "      <th>1960</th>\n",
       "      <td>NaN</td>\n",
       "      <td>147.612</td>\n",
       "      <td>59.7732</td>\n",
       "      <td>107.932</td>\n",
       "      <td>NaN</td>\n",
       "    </tr>\n",
       "    <tr>\n",
       "      <th>1961</th>\n",
       "      <td>NaN</td>\n",
       "      <td>147.015</td>\n",
       "      <td>59.8609</td>\n",
       "      <td>113.082</td>\n",
       "      <td>NaN</td>\n",
       "    </tr>\n",
       "    <tr>\n",
       "      <th>1962</th>\n",
       "      <td>NaN</td>\n",
       "      <td>156.189</td>\n",
       "      <td>58.458</td>\n",
       "      <td>118.831</td>\n",
       "      <td>NaN</td>\n",
       "    </tr>\n",
       "    <tr>\n",
       "      <th>1963</th>\n",
       "      <td>NaN</td>\n",
       "      <td>182.244</td>\n",
       "      <td>78.7064</td>\n",
       "      <td>123.443</td>\n",
       "      <td>NaN</td>\n",
       "    </tr>\n",
       "    <tr>\n",
       "      <th>...</th>\n",
       "      <td>...</td>\n",
       "      <td>...</td>\n",
       "      <td>...</td>\n",
       "      <td>...</td>\n",
       "      <td>...</td>\n",
       "    </tr>\n",
       "    <tr>\n",
       "      <th>2016</th>\n",
       "      <td>28452.2</td>\n",
       "      <td>1431.78</td>\n",
       "      <td>512.013</td>\n",
       "      <td>1673.84</td>\n",
       "      <td>3506.07</td>\n",
       "    </tr>\n",
       "    <tr>\n",
       "      <th>2017</th>\n",
       "      <td>29350.8</td>\n",
       "      <td>1573.06</td>\n",
       "      <td>516.68</td>\n",
       "      <td>1613.47</td>\n",
       "      <td>4095.81</td>\n",
       "    </tr>\n",
       "    <tr>\n",
       "      <th>2018</th>\n",
       "      <td>30253.3</td>\n",
       "      <td>1574.98</td>\n",
       "      <td>485.668</td>\n",
       "      <td>1704.14</td>\n",
       "      <td>3289.64</td>\n",
       "    </tr>\n",
       "    <tr>\n",
       "      <th>2019</th>\n",
       "      <td>NaN</td>\n",
       "      <td>1530.06</td>\n",
       "      <td>494.179</td>\n",
       "      <td>1777.92</td>\n",
       "      <td>2809.63</td>\n",
       "    </tr>\n",
       "    <tr>\n",
       "      <th>2020</th>\n",
       "      <td>NaN</td>\n",
       "      <td>1359.62</td>\n",
       "      <td>516.748</td>\n",
       "      <td>1710.07</td>\n",
       "      <td>1776.17</td>\n",
       "    </tr>\n",
       "  </tbody>\n",
       "</table>\n",
       "<p>62 rows × 5 columns</p>\n",
       "</div>"
      ],
      "text/plain": [
       "                    0                            1            2  \\\n",
       "Country Name    Aruba  Africa Eastern and Southern  Afghanistan   \n",
       "1960              NaN                      147.612      59.7732   \n",
       "1961              NaN                      147.015      59.8609   \n",
       "1962              NaN                      156.189       58.458   \n",
       "1963              NaN                      182.244      78.7064   \n",
       "...               ...                          ...          ...   \n",
       "2016          28452.2                      1431.78      512.013   \n",
       "2017          29350.8                      1573.06       516.68   \n",
       "2018          30253.3                      1574.98      485.668   \n",
       "2019              NaN                      1530.06      494.179   \n",
       "2020              NaN                      1359.62      516.748   \n",
       "\n",
       "                                       3        4  \n",
       "Country Name  Africa Western and Central   Angola  \n",
       "1960                             107.932      NaN  \n",
       "1961                             113.082      NaN  \n",
       "1962                             118.831      NaN  \n",
       "1963                             123.443      NaN  \n",
       "...                                  ...      ...  \n",
       "2016                             1673.84  3506.07  \n",
       "2017                             1613.47  4095.81  \n",
       "2018                             1704.14  3289.64  \n",
       "2019                             1777.92  2809.63  \n",
       "2020                             1710.07  1776.17  \n",
       "\n",
       "[62 rows x 5 columns]"
      ]
     },
     "execution_count": 116,
     "metadata": {},
     "output_type": "execute_result"
    }
   ],
   "source": [
    "df_gdp.head().T"
   ]
  },
  {
   "cell_type": "code",
   "execution_count": 117,
   "metadata": {},
   "outputs": [
    {
     "name": "stdout",
     "output_type": "stream",
     "text": [
      "countries_df_latlong:  184 \n",
      "\n",
      "countries_df_gdp:  266 \n",
      "\n",
      "mismatch:  25 \n",
      "\n",
      "mismatch countries: ['Bahamas', 'Brunei', 'Burma', 'Congo (Brazzaville)', 'Congo (Kinshasa)', 'Czechia', 'Diamond Princess', 'Egypt', 'Gambia', 'Holy See', 'Iran', 'Korea, South', 'Kyrgyzstan', 'Laos', 'MS Zaandam', 'Russia', 'Saint Kitts and Nevis', 'Saint Lucia', 'Saint Vincent and the Grenadines', 'Slovakia', 'Syria', 'Taiwan*', 'US', 'Venezuela', 'Western Sahara']\n"
     ]
    }
   ],
   "source": [
    "countries_df_latlong = df_latlong['Country'].values\n",
    "countries_df_gdp = df_gdp['Country Name'].values\n",
    "\n",
    "mismatch = [i for i in countries_df_latlong if i not in countries_df_gdp]\n",
    "\n",
    "print(\n",
    "\"countries_df_latlong: \",len(countries_df_latlong),\n",
    "\"\\n\\ncountries_df_gdp: \",len(countries_df_gdp),\n",
    "\"\\n\\nmismatch: \",len(mismatch),\n",
    "\"\\n\\nmismatch countries:\", mismatch\n",
    ")"
   ]
  },
  {
   "cell_type": "code",
   "execution_count": 118,
   "metadata": {},
   "outputs": [
    {
     "data": {
      "text/plain": [
       "159"
      ]
     },
     "execution_count": 118,
     "metadata": {},
     "output_type": "execute_result"
    }
   ],
   "source": [
    "#### Depois fazer a correspondencia certinha\n",
    "nodes = set(countries_df_latlong)-set(mismatch)\n",
    "len(nodes)"
   ]
  },
  {
   "cell_type": "code",
   "execution_count": 119,
   "metadata": {
    "scrolled": true
   },
   "outputs": [
    {
     "data": {
      "text/html": [
       "<div>\n",
       "<style scoped>\n",
       "    .dataframe tbody tr th:only-of-type {\n",
       "        vertical-align: middle;\n",
       "    }\n",
       "\n",
       "    .dataframe tbody tr th {\n",
       "        vertical-align: top;\n",
       "    }\n",
       "\n",
       "    .dataframe thead th {\n",
       "        text-align: right;\n",
       "    }\n",
       "</style>\n",
       "<table border=\"1\" class=\"dataframe\">\n",
       "  <thead>\n",
       "    <tr style=\"text-align: right;\">\n",
       "      <th></th>\n",
       "      <th>0</th>\n",
       "      <th>1</th>\n",
       "      <th>2</th>\n",
       "      <th>3</th>\n",
       "      <th>4</th>\n",
       "    </tr>\n",
       "  </thead>\n",
       "  <tbody>\n",
       "    <tr>\n",
       "      <th>Country</th>\n",
       "      <td>Afghanistan</td>\n",
       "      <td>Albania</td>\n",
       "      <td>Algeria</td>\n",
       "      <td>Andorra</td>\n",
       "      <td>Angola</td>\n",
       "    </tr>\n",
       "    <tr>\n",
       "      <th>Latitude</th>\n",
       "      <td>33.768</td>\n",
       "      <td>41</td>\n",
       "      <td>28</td>\n",
       "      <td>42.5407</td>\n",
       "      <td>-11.8776</td>\n",
       "    </tr>\n",
       "    <tr>\n",
       "      <th>Longitude</th>\n",
       "      <td>66.2385</td>\n",
       "      <td>20</td>\n",
       "      <td>2.99998</td>\n",
       "      <td>1.5732</td>\n",
       "      <td>17.5691</td>\n",
       "    </tr>\n",
       "  </tbody>\n",
       "</table>\n",
       "</div>"
      ],
      "text/plain": [
       "                     0        1        2        3        4\n",
       "Country    Afghanistan  Albania  Algeria  Andorra   Angola\n",
       "Latitude        33.768       41       28  42.5407 -11.8776\n",
       "Longitude      66.2385       20  2.99998   1.5732  17.5691"
      ]
     },
     "execution_count": 119,
     "metadata": {},
     "output_type": "execute_result"
    }
   ],
   "source": [
    "nodes_df = [i for i in nodes]\n",
    "df = df_latlong[df_latlong['Country'].isin(nodes_df)]\n",
    "df.head(5).T"
   ]
  },
  {
   "cell_type": "code",
   "execution_count": 120,
   "metadata": {},
   "outputs": [
    {
     "data": {
      "text/html": [
       "<div>\n",
       "<style scoped>\n",
       "    .dataframe tbody tr th:only-of-type {\n",
       "        vertical-align: middle;\n",
       "    }\n",
       "\n",
       "    .dataframe tbody tr th {\n",
       "        vertical-align: top;\n",
       "    }\n",
       "\n",
       "    .dataframe thead th {\n",
       "        text-align: right;\n",
       "    }\n",
       "</style>\n",
       "<table border=\"1\" class=\"dataframe\">\n",
       "  <thead>\n",
       "    <tr style=\"text-align: right;\">\n",
       "      <th></th>\n",
       "      <th>0</th>\n",
       "      <th>1</th>\n",
       "      <th>2</th>\n",
       "      <th>3</th>\n",
       "      <th>4</th>\n",
       "    </tr>\n",
       "  </thead>\n",
       "  <tbody>\n",
       "    <tr>\n",
       "      <th>Country</th>\n",
       "      <td>Afghanistan</td>\n",
       "      <td>Albania</td>\n",
       "      <td>Algeria</td>\n",
       "      <td>Andorra</td>\n",
       "      <td>Angola</td>\n",
       "    </tr>\n",
       "    <tr>\n",
       "      <th>Lat</th>\n",
       "      <td>33.768</td>\n",
       "      <td>41</td>\n",
       "      <td>28</td>\n",
       "      <td>42.5407</td>\n",
       "      <td>-11.8776</td>\n",
       "    </tr>\n",
       "    <tr>\n",
       "      <th>Lon</th>\n",
       "      <td>66.2385</td>\n",
       "      <td>20</td>\n",
       "      <td>2.99998</td>\n",
       "      <td>1.5732</td>\n",
       "      <td>17.5691</td>\n",
       "    </tr>\n",
       "    <tr>\n",
       "      <th>1960</th>\n",
       "      <td>59.7732</td>\n",
       "      <td>NaN</td>\n",
       "      <td>246.304</td>\n",
       "      <td>NaN</td>\n",
       "      <td>NaN</td>\n",
       "    </tr>\n",
       "    <tr>\n",
       "      <th>1961</th>\n",
       "      <td>59.8609</td>\n",
       "      <td>NaN</td>\n",
       "      <td>214.772</td>\n",
       "      <td>NaN</td>\n",
       "      <td>NaN</td>\n",
       "    </tr>\n",
       "    <tr>\n",
       "      <th>...</th>\n",
       "      <td>...</td>\n",
       "      <td>...</td>\n",
       "      <td>...</td>\n",
       "      <td>...</td>\n",
       "      <td>...</td>\n",
       "    </tr>\n",
       "    <tr>\n",
       "      <th>2016</th>\n",
       "      <td>512.013</td>\n",
       "      <td>4124.06</td>\n",
       "      <td>3946.45</td>\n",
       "      <td>37475.6</td>\n",
       "      <td>3506.07</td>\n",
       "    </tr>\n",
       "    <tr>\n",
       "      <th>2017</th>\n",
       "      <td>516.68</td>\n",
       "      <td>4531.02</td>\n",
       "      <td>4109.7</td>\n",
       "      <td>38964.9</td>\n",
       "      <td>4095.81</td>\n",
       "    </tr>\n",
       "    <tr>\n",
       "      <th>2018</th>\n",
       "      <td>485.668</td>\n",
       "      <td>5287.66</td>\n",
       "      <td>4142.02</td>\n",
       "      <td>41792</td>\n",
       "      <td>3289.64</td>\n",
       "    </tr>\n",
       "    <tr>\n",
       "      <th>2019</th>\n",
       "      <td>494.179</td>\n",
       "      <td>5395.66</td>\n",
       "      <td>3989.67</td>\n",
       "      <td>40897.3</td>\n",
       "      <td>2809.63</td>\n",
       "    </tr>\n",
       "    <tr>\n",
       "      <th>2020</th>\n",
       "      <td>516.748</td>\n",
       "      <td>5246.29</td>\n",
       "      <td>3306.86</td>\n",
       "      <td>NaN</td>\n",
       "      <td>1776.17</td>\n",
       "    </tr>\n",
       "  </tbody>\n",
       "</table>\n",
       "<p>64 rows × 5 columns</p>\n",
       "</div>"
      ],
      "text/plain": [
       "                   0        1        2        3        4\n",
       "Country  Afghanistan  Albania  Algeria  Andorra   Angola\n",
       "Lat           33.768       41       28  42.5407 -11.8776\n",
       "Lon          66.2385       20  2.99998   1.5732  17.5691\n",
       "1960         59.7732      NaN  246.304      NaN      NaN\n",
       "1961         59.8609      NaN  214.772      NaN      NaN\n",
       "...              ...      ...      ...      ...      ...\n",
       "2016         512.013  4124.06  3946.45  37475.6  3506.07\n",
       "2017          516.68  4531.02   4109.7  38964.9  4095.81\n",
       "2018         485.668  5287.66  4142.02    41792  3289.64\n",
       "2019         494.179  5395.66  3989.67  40897.3  2809.63\n",
       "2020         516.748  5246.29  3306.86      NaN  1776.17\n",
       "\n",
       "[64 rows x 5 columns]"
      ]
     },
     "execution_count": 120,
     "metadata": {},
     "output_type": "execute_result"
    }
   ],
   "source": [
    "df = pd.merge(df_latlong,df_gdp,how='inner',left_on=['Country'],right_on=['Country Name'])\n",
    "\n",
    "df.drop(['Country Name'], axis=1, inplace=True)\n",
    "df = df.rename({'Latitude': 'Lat', 'Longitude': 'Lon'}, axis=1)  # new method\n",
    "\n",
    "df.head().T\n"
   ]
  },
  {
   "cell_type": "code",
   "execution_count": 121,
   "metadata": {
    "scrolled": true
   },
   "outputs": [
    {
     "data": {
      "text/plain": [
       "Index(['Country', 'Lat', 'Lon', '1960', '1961', '1962', '1963', '1964', '1965',\n",
       "       '1966', '1967', '1968', '1969', '1970', '1971', '1972', '1973', '1974',\n",
       "       '1975', '1976', '1977', '1978', '1979', '1980', '1981', '1982', '1983',\n",
       "       '1984', '1985', '1986', '1987', '1988', '1989', '1990', '1991', '1992',\n",
       "       '1993', '1994', '1995', '1996', '1997', '1998', '1999', '2000', '2001',\n",
       "       '2002', '2003', '2004', '2005', '2006', '2007', '2008', '2009', '2010',\n",
       "       '2011', '2012', '2013', '2014', '2015', '2016', '2017', '2018', '2019',\n",
       "       '2020'],\n",
       "      dtype='object')"
      ]
     },
     "execution_count": 121,
     "metadata": {},
     "output_type": "execute_result"
    }
   ],
   "source": [
    "df.columns"
   ]
  },
  {
   "cell_type": "code",
   "execution_count": 122,
   "metadata": {},
   "outputs": [
    {
     "data": {
      "text/plain": [
       "array([[<AxesSubplot:title={'center':'Lat'}>,\n",
       "        <AxesSubplot:title={'center':'Lon'}>,\n",
       "        <AxesSubplot:title={'center':'1960'}>,\n",
       "        <AxesSubplot:title={'center':'1961'}>,\n",
       "        <AxesSubplot:title={'center':'1962'}>,\n",
       "        <AxesSubplot:title={'center':'1963'}>,\n",
       "        <AxesSubplot:title={'center':'1964'}>,\n",
       "        <AxesSubplot:title={'center':'1965'}>],\n",
       "       [<AxesSubplot:title={'center':'1966'}>,\n",
       "        <AxesSubplot:title={'center':'1967'}>,\n",
       "        <AxesSubplot:title={'center':'1968'}>,\n",
       "        <AxesSubplot:title={'center':'1969'}>,\n",
       "        <AxesSubplot:title={'center':'1970'}>,\n",
       "        <AxesSubplot:title={'center':'1971'}>,\n",
       "        <AxesSubplot:title={'center':'1972'}>,\n",
       "        <AxesSubplot:title={'center':'1973'}>],\n",
       "       [<AxesSubplot:title={'center':'1974'}>,\n",
       "        <AxesSubplot:title={'center':'1975'}>,\n",
       "        <AxesSubplot:title={'center':'1976'}>,\n",
       "        <AxesSubplot:title={'center':'1977'}>,\n",
       "        <AxesSubplot:title={'center':'1978'}>,\n",
       "        <AxesSubplot:title={'center':'1979'}>,\n",
       "        <AxesSubplot:title={'center':'1980'}>,\n",
       "        <AxesSubplot:title={'center':'1981'}>],\n",
       "       [<AxesSubplot:title={'center':'1982'}>,\n",
       "        <AxesSubplot:title={'center':'1983'}>,\n",
       "        <AxesSubplot:title={'center':'1984'}>,\n",
       "        <AxesSubplot:title={'center':'1985'}>,\n",
       "        <AxesSubplot:title={'center':'1986'}>,\n",
       "        <AxesSubplot:title={'center':'1987'}>,\n",
       "        <AxesSubplot:title={'center':'1988'}>,\n",
       "        <AxesSubplot:title={'center':'1989'}>],\n",
       "       [<AxesSubplot:title={'center':'1990'}>,\n",
       "        <AxesSubplot:title={'center':'1991'}>,\n",
       "        <AxesSubplot:title={'center':'1992'}>,\n",
       "        <AxesSubplot:title={'center':'1993'}>,\n",
       "        <AxesSubplot:title={'center':'1994'}>,\n",
       "        <AxesSubplot:title={'center':'1995'}>,\n",
       "        <AxesSubplot:title={'center':'1996'}>,\n",
       "        <AxesSubplot:title={'center':'1997'}>],\n",
       "       [<AxesSubplot:title={'center':'1998'}>,\n",
       "        <AxesSubplot:title={'center':'1999'}>,\n",
       "        <AxesSubplot:title={'center':'2000'}>,\n",
       "        <AxesSubplot:title={'center':'2001'}>,\n",
       "        <AxesSubplot:title={'center':'2002'}>,\n",
       "        <AxesSubplot:title={'center':'2003'}>,\n",
       "        <AxesSubplot:title={'center':'2004'}>,\n",
       "        <AxesSubplot:title={'center':'2005'}>],\n",
       "       [<AxesSubplot:title={'center':'2006'}>,\n",
       "        <AxesSubplot:title={'center':'2007'}>,\n",
       "        <AxesSubplot:title={'center':'2008'}>,\n",
       "        <AxesSubplot:title={'center':'2009'}>,\n",
       "        <AxesSubplot:title={'center':'2010'}>,\n",
       "        <AxesSubplot:title={'center':'2011'}>,\n",
       "        <AxesSubplot:title={'center':'2012'}>,\n",
       "        <AxesSubplot:title={'center':'2013'}>],\n",
       "       [<AxesSubplot:title={'center':'2014'}>,\n",
       "        <AxesSubplot:title={'center':'2015'}>,\n",
       "        <AxesSubplot:title={'center':'2016'}>,\n",
       "        <AxesSubplot:title={'center':'2017'}>,\n",
       "        <AxesSubplot:title={'center':'2018'}>,\n",
       "        <AxesSubplot:title={'center':'2019'}>,\n",
       "        <AxesSubplot:title={'center':'2020'}>, <AxesSubplot:>]],\n",
       "      dtype=object)"
      ]
     },
     "execution_count": 122,
     "metadata": {},
     "output_type": "execute_result"
    },
    {
     "data": {
      "image/png": "[encoded data removed]",
      "text/plain": [
       "<Figure size 1440x2160 with 64 Axes>"
      ]
     },
     "metadata": {
      "needs_background": "light"
     },
     "output_type": "display_data"
    }
   ],
   "source": [
    "df.hist(figsize=(20,30))"
   ]
  },
  {
   "cell_type": "code",
   "execution_count": 125,
   "metadata": {},
   "outputs": [],
   "source": [
    "GDP_years = list(set(df.columns) - {'Country', 'Lat', 'Lon'})"
   ]
  },
  {
   "cell_type": "code",
   "execution_count": 126,
   "metadata": {},
   "outputs": [],
   "source": [
    "for column in GDP_years:\n",
    "    df[column] = np.log10(df[column])"
   ]
  },
  {
   "cell_type": "code",
   "execution_count": 127,
   "metadata": {},
   "outputs": [
    {
     "data": {
      "text/plain": [
       "array([[<AxesSubplot:title={'center':'Lat'}>,\n",
       "        <AxesSubplot:title={'center':'Lon'}>,\n",
       "        <AxesSubplot:title={'center':'1960'}>,\n",
       "        <AxesSubplot:title={'center':'1961'}>,\n",
       "        <AxesSubplot:title={'center':'1962'}>,\n",
       "        <AxesSubplot:title={'center':'1963'}>,\n",
       "        <AxesSubplot:title={'center':'1964'}>,\n",
       "        <AxesSubplot:title={'center':'1965'}>],\n",
       "       [<AxesSubplot:title={'center':'1966'}>,\n",
       "        <AxesSubplot:title={'center':'1967'}>,\n",
       "        <AxesSubplot:title={'center':'1968'}>,\n",
       "        <AxesSubplot:title={'center':'1969'}>,\n",
       "        <AxesSubplot:title={'center':'1970'}>,\n",
       "        <AxesSubplot:title={'center':'1971'}>,\n",
       "        <AxesSubplot:title={'center':'1972'}>,\n",
       "        <AxesSubplot:title={'center':'1973'}>],\n",
       "       [<AxesSubplot:title={'center':'1974'}>,\n",
       "        <AxesSubplot:title={'center':'1975'}>,\n",
       "        <AxesSubplot:title={'center':'1976'}>,\n",
       "        <AxesSubplot:title={'center':'1977'}>,\n",
       "        <AxesSubplot:title={'center':'1978'}>,\n",
       "        <AxesSubplot:title={'center':'1979'}>,\n",
       "        <AxesSubplot:title={'center':'1980'}>,\n",
       "        <AxesSubplot:title={'center':'1981'}>],\n",
       "       [<AxesSubplot:title={'center':'1982'}>,\n",
       "        <AxesSubplot:title={'center':'1983'}>,\n",
       "        <AxesSubplot:title={'center':'1984'}>,\n",
       "        <AxesSubplot:title={'center':'1985'}>,\n",
       "        <AxesSubplot:title={'center':'1986'}>,\n",
       "        <AxesSubplot:title={'center':'1987'}>,\n",
       "        <AxesSubplot:title={'center':'1988'}>,\n",
       "        <AxesSubplot:title={'center':'1989'}>],\n",
       "       [<AxesSubplot:title={'center':'1990'}>,\n",
       "        <AxesSubplot:title={'center':'1991'}>,\n",
       "        <AxesSubplot:title={'center':'1992'}>,\n",
       "        <AxesSubplot:title={'center':'1993'}>,\n",
       "        <AxesSubplot:title={'center':'1994'}>,\n",
       "        <AxesSubplot:title={'center':'1995'}>,\n",
       "        <AxesSubplot:title={'center':'1996'}>,\n",
       "        <AxesSubplot:title={'center':'1997'}>],\n",
       "       [<AxesSubplot:title={'center':'1998'}>,\n",
       "        <AxesSubplot:title={'center':'1999'}>,\n",
       "        <AxesSubplot:title={'center':'2000'}>,\n",
       "        <AxesSubplot:title={'center':'2001'}>,\n",
       "        <AxesSubplot:title={'center':'2002'}>,\n",
       "        <AxesSubplot:title={'center':'2003'}>,\n",
       "        <AxesSubplot:title={'center':'2004'}>,\n",
       "        <AxesSubplot:title={'center':'2005'}>],\n",
       "       [<AxesSubplot:title={'center':'2006'}>,\n",
       "        <AxesSubplot:title={'center':'2007'}>,\n",
       "        <AxesSubplot:title={'center':'2008'}>,\n",
       "        <AxesSubplot:title={'center':'2009'}>,\n",
       "        <AxesSubplot:title={'center':'2010'}>,\n",
       "        <AxesSubplot:title={'center':'2011'}>,\n",
       "        <AxesSubplot:title={'center':'2012'}>,\n",
       "        <AxesSubplot:title={'center':'2013'}>],\n",
       "       [<AxesSubplot:title={'center':'2014'}>,\n",
       "        <AxesSubplot:title={'center':'2015'}>,\n",
       "        <AxesSubplot:title={'center':'2016'}>,\n",
       "        <AxesSubplot:title={'center':'2017'}>,\n",
       "        <AxesSubplot:title={'center':'2018'}>,\n",
       "        <AxesSubplot:title={'center':'2019'}>,\n",
       "        <AxesSubplot:title={'center':'2020'}>, <AxesSubplot:>]],\n",
       "      dtype=object)"
      ]
     },
     "execution_count": 127,
     "metadata": {},
     "output_type": "execute_result"
    },
    {
     "data": {
      "image/png": "[encoded data removed]",
      "text/plain": [
       "<Figure size 1440x2160 with 64 Axes>"
      ]
     },
     "metadata": {
      "needs_background": "light"
     },
     "output_type": "display_data"
    }
   ],
   "source": [
    "df.hist(figsize=(20,30))"
   ]
  },
  {
   "cell_type": "code",
   "execution_count": 128,
   "metadata": {
    "colab": {
     "base_uri": "https://localhost:8080/",
     "height": 300
    },
    "id": "nno18pB4Jbd7",
    "outputId": "9862c4a9-61b2-4843-8275-c7a37dedb824",
    "scrolled": false
   },
   "outputs": [
    {
     "data": {
      "text/html": [
       "<div>\n",
       "<style scoped>\n",
       "    .dataframe tbody tr th:only-of-type {\n",
       "        vertical-align: middle;\n",
       "    }\n",
       "\n",
       "    .dataframe tbody tr th {\n",
       "        vertical-align: top;\n",
       "    }\n",
       "\n",
       "    .dataframe thead th {\n",
       "        text-align: right;\n",
       "    }\n",
       "</style>\n",
       "<table border=\"1\" class=\"dataframe\">\n",
       "  <thead>\n",
       "    <tr style=\"text-align: right;\">\n",
       "      <th></th>\n",
       "      <th>Ano</th>\n",
       "      <th>GDP</th>\n",
       "      <th>Lat</th>\n",
       "      <th>Lon</th>\n",
       "    </tr>\n",
       "  </thead>\n",
       "  <tbody>\n",
       "    <tr>\n",
       "      <th>count</th>\n",
       "      <td>12504.000000</td>\n",
       "      <td>9.790000e+03</td>\n",
       "      <td>12504.000000</td>\n",
       "      <td>12504.000000</td>\n",
       "    </tr>\n",
       "    <tr>\n",
       "      <th>mean</th>\n",
       "      <td>1990.002399</td>\n",
       "      <td>1.924766e+11</td>\n",
       "      <td>18.961356</td>\n",
       "      <td>16.605233</td>\n",
       "    </tr>\n",
       "    <tr>\n",
       "      <th>std</th>\n",
       "      <td>17.606181</td>\n",
       "      <td>9.748143e+11</td>\n",
       "      <td>24.155906</td>\n",
       "      <td>69.694673</td>\n",
       "    </tr>\n",
       "    <tr>\n",
       "      <th>min</th>\n",
       "      <td>1960.000000</td>\n",
       "      <td>8.824448e+06</td>\n",
       "      <td>-40.900557</td>\n",
       "      <td>-175.198242</td>\n",
       "    </tr>\n",
       "    <tr>\n",
       "      <th>25%</th>\n",
       "      <td>1975.000000</td>\n",
       "      <td>1.635194e+09</td>\n",
       "      <td>3.919305</td>\n",
       "      <td>-9.696645</td>\n",
       "    </tr>\n",
       "    <tr>\n",
       "      <th>50%</th>\n",
       "      <td>1990.000000</td>\n",
       "      <td>8.865695e+09</td>\n",
       "      <td>17.607789</td>\n",
       "      <td>18.643501</td>\n",
       "    </tr>\n",
       "    <tr>\n",
       "      <th>75%</th>\n",
       "      <td>2005.000000</td>\n",
       "      <td>5.976397e+10</td>\n",
       "      <td>39.947180</td>\n",
       "      <td>46.869107</td>\n",
       "    </tr>\n",
       "    <tr>\n",
       "      <th>max</th>\n",
       "      <td>2020.000000</td>\n",
       "      <td>2.143322e+13</td>\n",
       "      <td>71.706936</td>\n",
       "      <td>179.414413</td>\n",
       "    </tr>\n",
       "  </tbody>\n",
       "</table>\n",
       "</div>"
      ],
      "text/plain": [
       "                Ano           GDP           Lat           Lon\n",
       "count  12504.000000  9.790000e+03  12504.000000  12504.000000\n",
       "mean    1990.002399  1.924766e+11     18.961356     16.605233\n",
       "std       17.606181  9.748143e+11     24.155906     69.694673\n",
       "min     1960.000000  8.824448e+06    -40.900557   -175.198242\n",
       "25%     1975.000000  1.635194e+09      3.919305     -9.696645\n",
       "50%     1990.000000  8.865695e+09     17.607789     18.643501\n",
       "75%     2005.000000  5.976397e+10     39.947180     46.869107\n",
       "max     2020.000000  2.143322e+13     71.706936    179.414413"
      ]
     },
     "execution_count": 128,
     "metadata": {},
     "output_type": "execute_result"
    }
   ],
   "source": [
    "# Load the xlsx file\n",
    "excel_data = pd.read_excel('data_gdp_coordinates.xlsx')\n",
    "# Read the values of the file in the dataframe\n",
    "data = pd.DataFrame(excel_data)\n",
    "del data[\"Unnamed: 0\"]\n",
    "data.describe()"
   ]
  },
  {
   "cell_type": "code",
   "execution_count": null,
   "metadata": {},
   "outputs": [],
   "source": []
  },
  {
   "cell_type": "code",
   "execution_count": 129,
   "metadata": {},
   "outputs": [
    {
     "data": {
      "text/plain": [
       "Index(['Country', 'Lat', 'Lon', '1960', '1961', '1962', '1963', '1964', '1965',\n",
       "       '1966', '1967', '1968', '1969', '1970', '1971', '1972', '1973', '1974',\n",
       "       '1975', '1976', '1977', '1978', '1979', '1980', '1981', '1982', '1983',\n",
       "       '1984', '1985', '1986', '1987', '1988', '1989', '1990', '1991', '1992',\n",
       "       '1993', '1994', '1995', '1996', '1997', '1998', '1999', '2000', '2001',\n",
       "       '2002', '2003', '2004', '2005', '2006', '2007', '2008', '2009', '2010',\n",
       "       '2011', '2012', '2013', '2014', '2015', '2016', '2017', '2018', '2019',\n",
       "       '2020'],\n",
       "      dtype='object')"
      ]
     },
     "execution_count": 129,
     "metadata": {},
     "output_type": "execute_result"
    }
   ],
   "source": [
    "df.columns"
   ]
  },
  {
   "cell_type": "code",
   "execution_count": 130,
   "metadata": {
    "scrolled": true
   },
   "outputs": [],
   "source": [
    "df = df.melt(id_vars=['Country', 'Lat', 'Lon'], \n",
    "        var_name=\"Year\", \n",
    "        value_name=\"GDP\")"
   ]
  },
  {
   "cell_type": "code",
   "execution_count": 131,
   "metadata": {},
   "outputs": [
    {
     "data": {
      "text/plain": [
       "Country\n",
       "Afghanistan           41\n",
       "Albania               37\n",
       "Algeria               61\n",
       "Andorra               50\n",
       "Angola                38\n",
       "                      ..\n",
       "Uzbekistan            31\n",
       "Vietnam               36\n",
       "West Bank and Gaza    27\n",
       "Zambia                61\n",
       "Zimbabwe              61\n",
       "Name: GDP, Length: 159, dtype: int64"
      ]
     },
     "execution_count": 131,
     "metadata": {},
     "output_type": "execute_result"
    }
   ],
   "source": [
    "df.groupby(\"Country\")['GDP'].count()"
   ]
  },
  {
   "cell_type": "code",
   "execution_count": 132,
   "metadata": {},
   "outputs": [],
   "source": [
    "data = df.copy()"
   ]
  },
  {
   "cell_type": "code",
   "execution_count": 133,
   "metadata": {},
   "outputs": [
    {
     "data": {
      "text/html": [
       "<div>\n",
       "<style scoped>\n",
       "    .dataframe tbody tr th:only-of-type {\n",
       "        vertical-align: middle;\n",
       "    }\n",
       "\n",
       "    .dataframe tbody tr th {\n",
       "        vertical-align: top;\n",
       "    }\n",
       "\n",
       "    .dataframe thead th {\n",
       "        text-align: right;\n",
       "    }\n",
       "</style>\n",
       "<table border=\"1\" class=\"dataframe\">\n",
       "  <thead>\n",
       "    <tr style=\"text-align: right;\">\n",
       "      <th></th>\n",
       "      <th>Lat</th>\n",
       "      <th>Lon</th>\n",
       "      <th>GDP</th>\n",
       "    </tr>\n",
       "  </thead>\n",
       "  <tbody>\n",
       "    <tr>\n",
       "      <th>count</th>\n",
       "      <td>9699.000000</td>\n",
       "      <td>9699.000000</td>\n",
       "      <td>7944.000000</td>\n",
       "    </tr>\n",
       "    <tr>\n",
       "      <th>mean</th>\n",
       "      <td>19.992953</td>\n",
       "      <td>15.263292</td>\n",
       "      <td>3.302753</td>\n",
       "    </tr>\n",
       "    <tr>\n",
       "      <th>std</th>\n",
       "      <td>24.147219</td>\n",
       "      <td>56.528889</td>\n",
       "      <td>0.759844</td>\n",
       "    </tr>\n",
       "    <tr>\n",
       "      <th>min</th>\n",
       "      <td>-41.500083</td>\n",
       "      <td>-107.991707</td>\n",
       "      <td>1.357846</td>\n",
       "    </tr>\n",
       "    <tr>\n",
       "      <th>25%</th>\n",
       "      <td>4.706435</td>\n",
       "      <td>-7.889626</td>\n",
       "      <td>2.694405</td>\n",
       "    </tr>\n",
       "    <tr>\n",
       "      <th>50%</th>\n",
       "      <td>18.115296</td>\n",
       "      <td>19.015617</td>\n",
       "      <td>3.252151</td>\n",
       "    </tr>\n",
       "    <tr>\n",
       "      <th>75%</th>\n",
       "      <td>41.323730</td>\n",
       "      <td>38.652120</td>\n",
       "      <td>3.862819</td>\n",
       "    </tr>\n",
       "    <tr>\n",
       "      <th>max</th>\n",
       "      <td>64.984182</td>\n",
       "      <td>179.012274</td>\n",
       "      <td>5.277580</td>\n",
       "    </tr>\n",
       "  </tbody>\n",
       "</table>\n",
       "</div>"
      ],
      "text/plain": [
       "               Lat          Lon          GDP\n",
       "count  9699.000000  9699.000000  7944.000000\n",
       "mean     19.992953    15.263292     3.302753\n",
       "std      24.147219    56.528889     0.759844\n",
       "min     -41.500083  -107.991707     1.357846\n",
       "25%       4.706435    -7.889626     2.694405\n",
       "50%      18.115296    19.015617     3.252151\n",
       "75%      41.323730    38.652120     3.862819\n",
       "max      64.984182   179.012274     5.277580"
      ]
     },
     "execution_count": 133,
     "metadata": {},
     "output_type": "execute_result"
    }
   ],
   "source": [
    "data.describe()"
   ]
  },
  {
   "cell_type": "code",
   "execution_count": 134,
   "metadata": {
    "colab": {
     "base_uri": "https://localhost:8080/"
    },
    "id": "FtquJgXCJdKA",
    "outputId": "480179a3-da5e-4193-bfb1-1c4aad214812",
    "scrolled": false
   },
   "outputs": [
    {
     "data": {
      "text/plain": [
       "Country    9699\n",
       "Lat        9699\n",
       "Lon        9699\n",
       "Year       9699\n",
       "GDP        7944\n",
       "dtype: int64"
      ]
     },
     "execution_count": 134,
     "metadata": {},
     "output_type": "execute_result"
    }
   ],
   "source": [
    "data.notna().sum()"
   ]
  },
  {
   "cell_type": "code",
   "execution_count": null,
   "metadata": {},
   "outputs": [],
   "source": []
  },
  {
   "cell_type": "code",
   "execution_count": 135,
   "metadata": {
    "id": "TV3XO4XLJe15"
   },
   "outputs": [],
   "source": [
    "all_data=data.dropna(subset=['Lat','Lon'])"
   ]
  },
  {
   "cell_type": "code",
   "execution_count": 136,
   "metadata": {
    "colab": {
     "base_uri": "https://localhost:8080/",
     "height": 233
    },
    "id": "22EJ2McwJgnN",
    "outputId": "a8e66aa0-3b25-4b81-8bdf-bc5f3f1851a5"
   },
   "outputs": [
    {
     "name": "stderr",
     "output_type": "stream",
     "text": [
      "C:\\Users\\User\\anaconda3\\lib\\site-packages\\pyproj\\crs\\crs.py:141: FutureWarning: '+init=<authority>:<code>' syntax is deprecated. '<authority>:<code>' is the preferred initialization method. When making the change, be mindful of axis order changes: https://pyproj4.github.io/pyproj/stable/gotchas.html#axis-order-changes-in-proj-6\n",
      "  in_crs_string = _prepare_from_proj_string(in_crs_string)\n"
     ]
    },
    {
     "data": {
      "text/plain": [
       "<AxesSubplot:>"
      ]
     },
     "execution_count": 136,
     "metadata": {},
     "output_type": "execute_result"
    },
    {
     "data": {
      "image/png": "[encoded data removed]",
      "text/plain": [
       "<Figure size 432x288 with 1 Axes>"
      ]
     },
     "metadata": {
      "needs_background": "light"
     },
     "output_type": "display_data"
    }
   ],
   "source": [
    "# Convert it to a GeoDataFrame by transforming the Latitude/Longitude coordinates \n",
    "loc_crs = {'init': 'epsg:4326'}\n",
    "loc_geom = [Point(xy) for xy in zip(all_data['Lon'], all_data['Lat'])]\n",
    "geo_df = gpd.GeoDataFrame(all_data, crs=loc_crs, geometry=loc_geom)\n",
    "\n",
    "# Plot the GeoDataFrame\n",
    "geo_df.plot()"
   ]
  },
  {
   "cell_type": "code",
   "execution_count": 137,
   "metadata": {
    "id": "L90Gi2iNJh6q"
   },
   "outputs": [],
   "source": [
    "del all_data['geometry']\n",
    "colunas = all_data.columns.tolist()"
   ]
  },
  {
   "cell_type": "code",
   "execution_count": 138,
   "metadata": {
    "id": "mYfyzefDJjYj"
   },
   "outputs": [],
   "source": [
    "def unique(list1):\n",
    " \n",
    "    # initialize a null list\n",
    "    unique_list = []\n",
    " \n",
    "    # traverse for all elements\n",
    "    for x in list1:\n",
    "        # check if exists in unique_list or not\n",
    "        if x not in unique_list:\n",
    "            unique_list.append(x)\n",
    "    # print list\n",
    "    # for x in unique_list:\n",
    "    #     print (x)\n",
    "    return unique_list\n",
    "lista_unica = unique(all_data['Country'].tolist())       \n",
    "# all_data['Pais'].tolist()"
   ]
  },
  {
   "cell_type": "code",
   "execution_count": 139,
   "metadata": {
    "colab": {
     "base_uri": "https://localhost:8080/",
     "height": 424
    },
    "id": "2FfJdg71y2k6",
    "outputId": "1009afad-1c5d-4486-bdf8-243ff6e6f00f"
   },
   "outputs": [
    {
     "data": {
      "text/html": [
       "<div>\n",
       "<style scoped>\n",
       "    .dataframe tbody tr th:only-of-type {\n",
       "        vertical-align: middle;\n",
       "    }\n",
       "\n",
       "    .dataframe tbody tr th {\n",
       "        vertical-align: top;\n",
       "    }\n",
       "\n",
       "    .dataframe thead th {\n",
       "        text-align: right;\n",
       "    }\n",
       "</style>\n",
       "<table border=\"1\" class=\"dataframe\">\n",
       "  <thead>\n",
       "    <tr style=\"text-align: right;\">\n",
       "      <th></th>\n",
       "      <th>Country</th>\n",
       "      <th>Lat</th>\n",
       "      <th>Lon</th>\n",
       "      <th>Year</th>\n",
       "      <th>GDP</th>\n",
       "    </tr>\n",
       "  </thead>\n",
       "  <tbody>\n",
       "    <tr>\n",
       "      <th>0</th>\n",
       "      <td>Afghanistan</td>\n",
       "      <td>33.768006</td>\n",
       "      <td>66.238514</td>\n",
       "      <td>1960</td>\n",
       "      <td>1.776507</td>\n",
       "    </tr>\n",
       "    <tr>\n",
       "      <th>1</th>\n",
       "      <td>Albania</td>\n",
       "      <td>41.000028</td>\n",
       "      <td>19.999962</td>\n",
       "      <td>1960</td>\n",
       "      <td>NaN</td>\n",
       "    </tr>\n",
       "    <tr>\n",
       "      <th>2</th>\n",
       "      <td>Algeria</td>\n",
       "      <td>28.000027</td>\n",
       "      <td>2.999983</td>\n",
       "      <td>1960</td>\n",
       "      <td>2.391471</td>\n",
       "    </tr>\n",
       "    <tr>\n",
       "      <th>3</th>\n",
       "      <td>Andorra</td>\n",
       "      <td>42.540717</td>\n",
       "      <td>1.573203</td>\n",
       "      <td>1960</td>\n",
       "      <td>NaN</td>\n",
       "    </tr>\n",
       "    <tr>\n",
       "      <th>4</th>\n",
       "      <td>Angola</td>\n",
       "      <td>-11.877577</td>\n",
       "      <td>17.569124</td>\n",
       "      <td>1960</td>\n",
       "      <td>NaN</td>\n",
       "    </tr>\n",
       "    <tr>\n",
       "      <th>...</th>\n",
       "      <td>...</td>\n",
       "      <td>...</td>\n",
       "      <td>...</td>\n",
       "      <td>...</td>\n",
       "      <td>...</td>\n",
       "    </tr>\n",
       "    <tr>\n",
       "      <th>9694</th>\n",
       "      <td>Uzbekistan</td>\n",
       "      <td>41.323730</td>\n",
       "      <td>63.952810</td>\n",
       "      <td>2020</td>\n",
       "      <td>3.243211</td>\n",
       "    </tr>\n",
       "    <tr>\n",
       "      <th>9695</th>\n",
       "      <td>Vietnam</td>\n",
       "      <td>13.290403</td>\n",
       "      <td>108.426511</td>\n",
       "      <td>2020</td>\n",
       "      <td>3.444938</td>\n",
       "    </tr>\n",
       "    <tr>\n",
       "      <th>9696</th>\n",
       "      <td>West Bank and Gaza</td>\n",
       "      <td>31.433166</td>\n",
       "      <td>34.377928</td>\n",
       "      <td>2020</td>\n",
       "      <td>3.510509</td>\n",
       "    </tr>\n",
       "    <tr>\n",
       "      <th>9697</th>\n",
       "      <td>Zambia</td>\n",
       "      <td>-14.518624</td>\n",
       "      <td>27.559916</td>\n",
       "      <td>2020</td>\n",
       "      <td>2.993495</td>\n",
       "    </tr>\n",
       "    <tr>\n",
       "      <th>9698</th>\n",
       "      <td>Zimbabwe</td>\n",
       "      <td>-18.455496</td>\n",
       "      <td>29.746841</td>\n",
       "      <td>2020</td>\n",
       "      <td>3.084401</td>\n",
       "    </tr>\n",
       "  </tbody>\n",
       "</table>\n",
       "<p>9699 rows × 5 columns</p>\n",
       "</div>"
      ],
      "text/plain": [
       "                 Country        Lat         Lon  Year       GDP\n",
       "0            Afghanistan  33.768006   66.238514  1960  1.776507\n",
       "1                Albania  41.000028   19.999962  1960       NaN\n",
       "2                Algeria  28.000027    2.999983  1960  2.391471\n",
       "3                Andorra  42.540717    1.573203  1960       NaN\n",
       "4                 Angola -11.877577   17.569124  1960       NaN\n",
       "...                  ...        ...         ...   ...       ...\n",
       "9694          Uzbekistan  41.323730   63.952810  2020  3.243211\n",
       "9695             Vietnam  13.290403  108.426511  2020  3.444938\n",
       "9696  West Bank and Gaza  31.433166   34.377928  2020  3.510509\n",
       "9697              Zambia -14.518624   27.559916  2020  2.993495\n",
       "9698            Zimbabwe -18.455496   29.746841  2020  3.084401\n",
       "\n",
       "[9699 rows x 5 columns]"
      ]
     },
     "execution_count": 139,
     "metadata": {},
     "output_type": "execute_result"
    }
   ],
   "source": [
    "all_data"
   ]
  },
  {
   "cell_type": "code",
   "execution_count": 140,
   "metadata": {
    "colab": {
     "base_uri": "https://localhost:8080/"
    },
    "id": "QzPKxVK4JkwY",
    "outputId": "7f9fd58c-5a58-4f1f-a177-ba0c49268348"
   },
   "outputs": [
    {
     "ename": "KeyError",
     "evalue": "'Pais'",
     "output_type": "error",
     "traceback": [
      "\u001b[1;31m---------------------------------------------------------------------------\u001b[0m",
      "\u001b[1;31mKeyError\u001b[0m                                  Traceback (most recent call last)",
      "\u001b[1;32m~\\anaconda3\\lib\\site-packages\\pandas\\core\\indexes\\base.py\u001b[0m in \u001b[0;36mget_loc\u001b[1;34m(self, key, method, tolerance)\u001b[0m\n\u001b[0;32m   2894\u001b[0m             \u001b[1;32mtry\u001b[0m\u001b[1;33m:\u001b[0m\u001b[1;33m\u001b[0m\u001b[1;33m\u001b[0m\u001b[0m\n\u001b[1;32m-> 2895\u001b[1;33m                 \u001b[1;32mreturn\u001b[0m \u001b[0mself\u001b[0m\u001b[1;33m.\u001b[0m\u001b[0m_engine\u001b[0m\u001b[1;33m.\u001b[0m\u001b[0mget_loc\u001b[0m\u001b[1;33m(\u001b[0m\u001b[0mcasted_key\u001b[0m\u001b[1;33m)\u001b[0m\u001b[1;33m\u001b[0m\u001b[1;33m\u001b[0m\u001b[0m\n\u001b[0m\u001b[0;32m   2896\u001b[0m             \u001b[1;32mexcept\u001b[0m \u001b[0mKeyError\u001b[0m \u001b[1;32mas\u001b[0m \u001b[0merr\u001b[0m\u001b[1;33m:\u001b[0m\u001b[1;33m\u001b[0m\u001b[1;33m\u001b[0m\u001b[0m\n",
      "\u001b[1;32mpandas\\_libs\\index.pyx\u001b[0m in \u001b[0;36mpandas._libs.index.IndexEngine.get_loc\u001b[1;34m()\u001b[0m\n",
      "\u001b[1;32mpandas\\_libs\\index.pyx\u001b[0m in \u001b[0;36mpandas._libs.index.IndexEngine.get_loc\u001b[1;34m()\u001b[0m\n",
      "\u001b[1;32mpandas\\_libs\\hashtable_class_helper.pxi\u001b[0m in \u001b[0;36mpandas._libs.hashtable.PyObjectHashTable.get_item\u001b[1;34m()\u001b[0m\n",
      "\u001b[1;32mpandas\\_libs\\hashtable_class_helper.pxi\u001b[0m in \u001b[0;36mpandas._libs.hashtable.PyObjectHashTable.get_item\u001b[1;34m()\u001b[0m\n",
      "\u001b[1;31mKeyError\u001b[0m: 'Pais'",
      "\nThe above exception was the direct cause of the following exception:\n",
      "\u001b[1;31mKeyError\u001b[0m                                  Traceback (most recent call last)",
      "\u001b[1;32m<ipython-input-140-93e15456cb4c>\u001b[0m in \u001b[0;36m<module>\u001b[1;34m\u001b[0m\n\u001b[0;32m      2\u001b[0m \u001b[0mdataset\u001b[0m \u001b[1;33m=\u001b[0m \u001b[1;33m[\u001b[0m\u001b[1;33m]\u001b[0m\u001b[1;33m\u001b[0m\u001b[1;33m\u001b[0m\u001b[0m\n\u001b[0;32m      3\u001b[0m \u001b[1;32mfor\u001b[0m \u001b[0mpais\u001b[0m \u001b[1;32min\u001b[0m \u001b[0mlista_unica\u001b[0m\u001b[1;33m:\u001b[0m\u001b[1;33m\u001b[0m\u001b[1;33m\u001b[0m\u001b[0m\n\u001b[1;32m----> 4\u001b[1;33m    \u001b[0mdata_pais\u001b[0m \u001b[1;33m=\u001b[0m \u001b[0mall_data\u001b[0m\u001b[1;33m[\u001b[0m\u001b[0mall_data\u001b[0m\u001b[1;33m[\u001b[0m\u001b[1;34m\"Pais\"\u001b[0m\u001b[1;33m]\u001b[0m \u001b[1;33m==\u001b[0m \u001b[0mpais\u001b[0m\u001b[1;33m]\u001b[0m\u001b[1;33m\u001b[0m\u001b[1;33m\u001b[0m\u001b[0m\n\u001b[0m\u001b[0;32m      5\u001b[0m    \u001b[0mlatitude_pais\u001b[0m \u001b[1;33m=\u001b[0m \u001b[0mdata_pais\u001b[0m\u001b[1;33m.\u001b[0m\u001b[0mLat\u001b[0m\u001b[1;33m\u001b[0m\u001b[1;33m\u001b[0m\u001b[0m\n\u001b[0;32m      6\u001b[0m    \u001b[0mlatitude_pais\u001b[0m \u001b[1;33m=\u001b[0m \u001b[0mlatitude_pais\u001b[0m\u001b[1;33m.\u001b[0m\u001b[0mtolist\u001b[0m\u001b[1;33m(\u001b[0m\u001b[1;33m)\u001b[0m\u001b[1;33m\u001b[0m\u001b[1;33m\u001b[0m\u001b[0m\n",
      "\u001b[1;32m~\\anaconda3\\lib\\site-packages\\pandas\\core\\frame.py\u001b[0m in \u001b[0;36m__getitem__\u001b[1;34m(self, key)\u001b[0m\n\u001b[0;32m   2900\u001b[0m             \u001b[1;32mif\u001b[0m \u001b[0mself\u001b[0m\u001b[1;33m.\u001b[0m\u001b[0mcolumns\u001b[0m\u001b[1;33m.\u001b[0m\u001b[0mnlevels\u001b[0m \u001b[1;33m>\u001b[0m \u001b[1;36m1\u001b[0m\u001b[1;33m:\u001b[0m\u001b[1;33m\u001b[0m\u001b[1;33m\u001b[0m\u001b[0m\n\u001b[0;32m   2901\u001b[0m                 \u001b[1;32mreturn\u001b[0m \u001b[0mself\u001b[0m\u001b[1;33m.\u001b[0m\u001b[0m_getitem_multilevel\u001b[0m\u001b[1;33m(\u001b[0m\u001b[0mkey\u001b[0m\u001b[1;33m)\u001b[0m\u001b[1;33m\u001b[0m\u001b[1;33m\u001b[0m\u001b[0m\n\u001b[1;32m-> 2902\u001b[1;33m             \u001b[0mindexer\u001b[0m \u001b[1;33m=\u001b[0m \u001b[0mself\u001b[0m\u001b[1;33m.\u001b[0m\u001b[0mcolumns\u001b[0m\u001b[1;33m.\u001b[0m\u001b[0mget_loc\u001b[0m\u001b[1;33m(\u001b[0m\u001b[0mkey\u001b[0m\u001b[1;33m)\u001b[0m\u001b[1;33m\u001b[0m\u001b[1;33m\u001b[0m\u001b[0m\n\u001b[0m\u001b[0;32m   2903\u001b[0m             \u001b[1;32mif\u001b[0m \u001b[0mis_integer\u001b[0m\u001b[1;33m(\u001b[0m\u001b[0mindexer\u001b[0m\u001b[1;33m)\u001b[0m\u001b[1;33m:\u001b[0m\u001b[1;33m\u001b[0m\u001b[1;33m\u001b[0m\u001b[0m\n\u001b[0;32m   2904\u001b[0m                 \u001b[0mindexer\u001b[0m \u001b[1;33m=\u001b[0m \u001b[1;33m[\u001b[0m\u001b[0mindexer\u001b[0m\u001b[1;33m]\u001b[0m\u001b[1;33m\u001b[0m\u001b[1;33m\u001b[0m\u001b[0m\n",
      "\u001b[1;32m~\\anaconda3\\lib\\site-packages\\pandas\\core\\indexes\\base.py\u001b[0m in \u001b[0;36mget_loc\u001b[1;34m(self, key, method, tolerance)\u001b[0m\n\u001b[0;32m   2895\u001b[0m                 \u001b[1;32mreturn\u001b[0m \u001b[0mself\u001b[0m\u001b[1;33m.\u001b[0m\u001b[0m_engine\u001b[0m\u001b[1;33m.\u001b[0m\u001b[0mget_loc\u001b[0m\u001b[1;33m(\u001b[0m\u001b[0mcasted_key\u001b[0m\u001b[1;33m)\u001b[0m\u001b[1;33m\u001b[0m\u001b[1;33m\u001b[0m\u001b[0m\n\u001b[0;32m   2896\u001b[0m             \u001b[1;32mexcept\u001b[0m \u001b[0mKeyError\u001b[0m \u001b[1;32mas\u001b[0m \u001b[0merr\u001b[0m\u001b[1;33m:\u001b[0m\u001b[1;33m\u001b[0m\u001b[1;33m\u001b[0m\u001b[0m\n\u001b[1;32m-> 2897\u001b[1;33m                 \u001b[1;32mraise\u001b[0m \u001b[0mKeyError\u001b[0m\u001b[1;33m(\u001b[0m\u001b[0mkey\u001b[0m\u001b[1;33m)\u001b[0m \u001b[1;32mfrom\u001b[0m \u001b[0merr\u001b[0m\u001b[1;33m\u001b[0m\u001b[1;33m\u001b[0m\u001b[0m\n\u001b[0m\u001b[0;32m   2898\u001b[0m \u001b[1;33m\u001b[0m\u001b[0m\n\u001b[0;32m   2899\u001b[0m         \u001b[1;32mif\u001b[0m \u001b[0mtolerance\u001b[0m \u001b[1;32mis\u001b[0m \u001b[1;32mnot\u001b[0m \u001b[1;32mNone\u001b[0m\u001b[1;33m:\u001b[0m\u001b[1;33m\u001b[0m\u001b[1;33m\u001b[0m\u001b[0m\n",
      "\u001b[1;31mKeyError\u001b[0m: 'Pais'"
     ]
    }
   ],
   "source": [
    "import math\n",
    "dataset = []\n",
    "for pais in lista_unica:\n",
    "   data_pais = all_data[all_data[\"Pais\"] == pais]\n",
    "   latitude_pais = data_pais.Lat\n",
    "   latitude_pais = latitude_pais.tolist()\n",
    "   latitude_pais = latitude_pais[0]\n",
    "   longitude_pais = data_pais.Lon\n",
    "   longitude_pais = longitude_pais.tolist()\n",
    "   longitude_pais = longitude_pais[0]\n",
    "   linha = 0\n",
    "   gdp =  data_pais.GDP\n",
    "   gdp = gdp.tolist()\n",
    " \n",
    "   while linha<len(gdp)-3: \n",
    "    #  dataset_array = []\n",
    "    \n",
    "     gdp_1 = gdp[linha:linha+1]\n",
    "     gdp_2 = gdp[linha+1:linha+2]\n",
    "     gdp_3 = gdp[linha+2:linha+3]\n",
    "     gdp_4 = gdp[linha+3:linha+4]\n",
    "     gdp_5 = gdp[linha+4:linha+5]\n",
    "\n",
    "    #  print(\"gdp_1 {0}\".format(gdp_1))\n",
    "    #  print(\"gdp_2 {0}\".format(gdp_2))\n",
    "    #  print(\"gdp_3 {0}\".format(gdp_3))\n",
    "    #  print(\"gdp_4 {0}\".format(gdp_4))\n",
    "    #  print(\"gdp_5 {0}\".format(gdp_5))\n",
    "     if math.isnan(gdp_1[0]) or math.isnan(gdp_2[0]) or math.isnan(gdp_3[0]) or math.isnan(gdp_4[0]) or math.isnan(gdp_5[0]):\n",
    "       nan = 0\n",
    "      #  print(gdp_1[0])\n",
    "      #  print(\"nan\")\n",
    "     else:\n",
    "       dataset.append([latitude_pais])\n",
    "       dataset.append([longitude_pais])\n",
    "       dataset.append(gdp_1)\n",
    "       dataset.append(gdp_2)\n",
    "       dataset.append(gdp_3)\n",
    "       dataset.append(gdp_4)\n",
    "       dataset.append(gdp_5)\n",
    "\n",
    "      \n",
    "      # dataset.append(dataset_array)\n",
    "     linha +=4\n",
    "\n",
    "print(dataset)    \n"
   ]
  },
  {
   "cell_type": "code",
   "execution_count": null,
   "metadata": {
    "colab": {
     "base_uri": "https://localhost:8080/"
    },
    "id": "_bfku6Jqzndb",
    "outputId": "e52135c0-988c-48ee-906b-84e458c91f6d"
   },
   "outputs": [],
   "source": [
    "import math\n",
    "dataset = []\n",
    "for pais in lista_unica:\n",
    "   data_pais = all_data[all_data[\"Country\"] == pais]\n",
    "   latitude_pais = data_pais.Lat\n",
    "   latitude_pais = latitude_pais.tolist()\n",
    "   latitude_pais = latitude_pais[0]\n",
    "   longitude_pais = data_pais.Lon\n",
    "   longitude_pais = longitude_pais.tolist()\n",
    "   longitude_pais = longitude_pais[0]\n",
    "   linha = 0\n",
    "   gdp =  data_pais.GDP\n",
    "   gdp = gdp.tolist()\n",
    " \n",
    "   while linha<len(gdp)-3: \n",
    "    #  dataset_array = []\n",
    "    \n",
    "     gdp_1 = gdp[linha]\n",
    "     gdp_2 = gdp[linha+1]\n",
    "     gdp_3 = gdp[linha+2]\n",
    "     gdp_4 = gdp[linha+3]\n",
    "     gdp_5 = gdp[linha+4]\n",
    "\n",
    "    #  print(\"gdp_1 {0}\".format(gdp_1))\n",
    "    #  print(\"gdp_2 {0}\".format(gdp_2))\n",
    "    #  print(\"gdp_3 {0}\".format(gdp_3))\n",
    "    #  print(\"gdp_4 {0}\".format(gdp_4))\n",
    "    #  print(\"gdp_5 {0}\".format(gdp_5))\n",
    "     if math.isnan(gdp_1) or math.isnan(gdp_2) or math.isnan(gdp_3) or math.isnan(gdp_4) or math.isnan(gdp_5):\n",
    "       nan = 0\n",
    "      #  print(gdp_1[0])\n",
    "      #  print(\"nan\")\n",
    "     else:\n",
    "       dataset.append([latitude_pais, longitude_pais, gdp_1, gdp_2, gdp_3, gdp_4, gdp_5])\n",
    "\n",
    "      \n",
    "      # dataset.append(dataset_array)\n",
    "     linha +=4\n",
    "\n",
    "print(dataset)    \n"
   ]
  },
  {
   "cell_type": "code",
   "execution_count": null,
   "metadata": {
    "id": "9W6Gc8iTJmUy"
   },
   "outputs": [],
   "source": [
    "my_array = np.array(dataset)\n",
    "dataset = my_array.astype('float32')\n",
    "# Normalizando os Valores\n",
    "scaler = MinMaxScaler(feature_range=(0, 1))\n",
    "dataset = scaler.fit_transform(dataset)\n"
   ]
  },
  {
   "cell_type": "code",
   "execution_count": null,
   "metadata": {
    "id": "oduqKV3oRDO1"
   },
   "outputs": [],
   "source": [
    "# lista=[]\n",
    "# data=[]\n",
    "# contador=0\n",
    "# for l in dataset:\n",
    "#   # print(l[0])\n",
    "#   lista.append([l[0]])\n",
    "#   contador +=1\n",
    "#   if contador ==7:\n",
    "#     # print(lista)\n",
    "#     data.append(lista)\n",
    "#     lista=[]\n",
    "#     contador=0\n",
    "  \n",
    "# my_array = np.array(data)\n",
    "# dataset = my_array.astype('float32')\n",
    "# # dataset"
   ]
  },
  {
   "cell_type": "code",
   "execution_count": null,
   "metadata": {
    "id": "vF7SkCHcJnun"
   },
   "outputs": [],
   "source": [
    "n_steps = 6 #CADA LISTA DENTRO DA LISTA VAI TER 7 DADOS\n",
    "\n",
    "setenta_porc= int((70*len(dataset))/100)\n",
    "vint_poc = int((20*len(dataset))/100)\n",
    "nov_porc=setenta_porc+vint_poc\n",
    "\n",
    "X_train, y_train = dataset[:setenta_porc, :n_steps], dataset[:setenta_porc, -1]\n",
    "X_valid, y_valid = dataset[setenta_porc:nov_porc, :n_steps], dataset[setenta_porc:nov_porc, -1]\n",
    "X_test, y_test = dataset[nov_porc:, :n_steps], dataset[nov_porc:, -1]"
   ]
  },
  {
   "cell_type": "code",
   "execution_count": null,
   "metadata": {
    "colab": {
     "base_uri": "https://localhost:8080/"
    },
    "id": "gXca22F7pcd9",
    "outputId": "09f6a59d-f86a-4705-9a1c-31a1608d40da"
   },
   "outputs": [],
   "source": [
    "X_train"
   ]
  },
  {
   "cell_type": "code",
   "execution_count": null,
   "metadata": {
    "colab": {
     "base_uri": "https://localhost:8080/"
    },
    "id": "4ueZJSfMJx3n",
    "outputId": "da01d7c3-01ab-438b-d306-a16549d292d8"
   },
   "outputs": [],
   "source": [
    "X_train.shape, y_train.shape"
   ]
  },
  {
   "cell_type": "code",
   "execution_count": 141,
   "metadata": {
    "colab": {
     "base_uri": "https://localhost:8080/",
     "height": 314
    },
    "id": "pPvEsDy-Jq9U",
    "outputId": "ffb5990b-79ac-48e4-9f53-46d373b5b668"
   },
   "outputs": [
    {
     "name": "stdout",
     "output_type": "stream",
     "text": [
      "Saving figure time_series_plot\n"
     ]
    },
    {
     "data": {
      "image/png": "[encoded data removed]",
      "text/plain": [
       "<Figure size 864x288 with 3 Axes>"
      ]
     },
     "metadata": {
      "needs_background": "light"
     },
     "output_type": "display_data"
    }
   ],
   "source": [
    "def plot_series(series, y=None, y_pred=None, x_label=\"$t$\", y_label=\"$x(t)$\"):\n",
    "    plt.plot(series, \".-\")\n",
    "    if y is not None:\n",
    "        plt.plot(n_steps, y, \"bx\", markersize=10)\n",
    "    if y_pred is not None:\n",
    "        plt.plot(n_steps, y_pred, \"ro\")\n",
    "    plt.grid(True)\n",
    "    if x_label:\n",
    "        plt.xlabel(x_label, fontsize=16)\n",
    "    if y_label:\n",
    "        plt.ylabel(y_label, fontsize=16, rotation=0)\n",
    "    # plt.hlines(0, 0, 100, linewidth=1)\n",
    "    # plt.axis([0, n_steps + 1, -1, 1])\n",
    "\n",
    "\n",
    "fig, axes = plt.subplots(nrows=1, ncols=3, sharey=True, figsize=(12, 4))\n",
    "for col in range(2):\n",
    "    plt.sca(axes[col])\n",
    "    plot_series(\n",
    "        X_valid[col, :],\n",
    "        y_valid[col],\n",
    "        y_label=(\"$x(t)$\" if col == 0 else None),\n",
    "    )\n",
    "save_fig(\"time_series_plot\")\n",
    "plt.show()"
   ]
  },
  {
   "cell_type": "code",
   "execution_count": 142,
   "metadata": {
    "colab": {
     "base_uri": "https://localhost:8080/"
    },
    "id": "I_Le3r1RJtEJ",
    "outputId": "861d0ed3-e6e3-4a7b-e571-aafa776887b7"
   },
   "outputs": [
    {
     "data": {
      "text/plain": [
       "0.00014079157"
      ]
     },
     "execution_count": 142,
     "metadata": {},
     "output_type": "execute_result"
    }
   ],
   "source": [
    "y_pred = X_valid[:, -1]\n",
    "np.mean(keras.losses.mean_squared_error(y_valid, y_pred))"
   ]
  },
  {
   "cell_type": "code",
   "execution_count": 143,
   "metadata": {
    "colab": {
     "base_uri": "https://localhost:8080/",
     "height": 288
    },
    "id": "WjB_JfshTCPm",
    "outputId": "c51bd3a5-7c9e-44bd-c1a4-ce41c3191d27"
   },
   "outputs": [
    {
     "data": {
      "image/png": "[encoded data removed]",
      "text/plain": [
       "<Figure size 432x288 with 1 Axes>"
      ]
     },
     "metadata": {
      "needs_background": "light"
     },
     "output_type": "display_data"
    }
   ],
   "source": [
    "plot_series(X_valid[0, :], y_valid[0], y_pred[0])\n",
    "plt.show()"
   ]
  },
  {
   "cell_type": "code",
   "execution_count": 144,
   "metadata": {
    "colab": {
     "base_uri": "https://localhost:8080/"
    },
    "id": "6Wu-5N1QTECo",
    "outputId": "38d364d7-0dd5-41f9-90f1-df9c58c87abe"
   },
   "outputs": [
    {
     "name": "stdout",
     "output_type": "stream",
     "text": [
      "Epoch 1/80\n",
      "11/11 [==============================] - 1s 27ms/step - loss: 0.0268 - val_loss: 0.0174\n",
      "Epoch 2/80\n",
      "11/11 [==============================] - 0s 9ms/step - loss: 0.0171 - val_loss: 0.0100\n",
      "Epoch 3/80\n",
      "11/11 [==============================] - 0s 8ms/step - loss: 0.0102 - val_loss: 0.0059\n",
      "Epoch 4/80\n",
      "11/11 [==============================] - 0s 6ms/step - loss: 0.0061 - val_loss: 0.0032\n",
      "Epoch 5/80\n",
      "11/11 [==============================] - 0s 5ms/step - loss: 0.0032 - val_loss: 0.0016\n",
      "Epoch 6/80\n",
      "11/11 [==============================] - 0s 7ms/step - loss: 0.0017 - val_loss: 8.9818e-04\n",
      "Epoch 7/80\n",
      "11/11 [==============================] - 0s 6ms/step - loss: 8.8643e-04 - val_loss: 5.8673e-04\n",
      "Epoch 8/80\n",
      "11/11 [==============================] - 0s 7ms/step - loss: 5.2202e-04 - val_loss: 3.8275e-04\n",
      "Epoch 9/80\n",
      "11/11 [==============================] - 0s 7ms/step - loss: 3.3018e-04 - val_loss: 3.0125e-04\n",
      "Epoch 10/80\n",
      "11/11 [==============================] - 0s 6ms/step - loss: 2.3991e-04 - val_loss: 2.6916e-04\n",
      "Epoch 11/80\n",
      "11/11 [==============================] - 0s 7ms/step - loss: 1.9843e-04 - val_loss: 2.5601e-04\n",
      "Epoch 12/80\n",
      "11/11 [==============================] - 0s 7ms/step - loss: 1.8165e-04 - val_loss: 2.5119e-04\n",
      "Epoch 13/80\n",
      "11/11 [==============================] - 0s 5ms/step - loss: 1.7683e-04 - val_loss: 2.5089e-04\n",
      "Epoch 14/80\n",
      "11/11 [==============================] - 0s 5ms/step - loss: 1.7580e-04 - val_loss: 2.4932e-04\n",
      "Epoch 15/80\n",
      "11/11 [==============================] - 0s 7ms/step - loss: 1.7406e-04 - val_loss: 2.4858e-04\n",
      "Epoch 16/80\n",
      "11/11 [==============================] - 0s 7ms/step - loss: 1.7371e-04 - val_loss: 2.4928e-04\n",
      "Epoch 17/80\n",
      "11/11 [==============================] - 0s 7ms/step - loss: 1.7425e-04 - val_loss: 2.4808e-04\n",
      "Epoch 18/80\n",
      "11/11 [==============================] - 0s 7ms/step - loss: 1.7303e-04 - val_loss: 2.4909e-04\n",
      "Epoch 19/80\n",
      "11/11 [==============================] - 0s 13ms/step - loss: 1.7287e-04 - val_loss: 2.4379e-04\n",
      "Epoch 20/80\n",
      "11/11 [==============================] - 0s 11ms/step - loss: 1.7240e-04 - val_loss: 2.5116e-04\n",
      "Epoch 21/80\n",
      "11/11 [==============================] - 0s 6ms/step - loss: 1.7546e-04 - val_loss: 2.4118e-04\n",
      "Epoch 22/80\n",
      "11/11 [==============================] - 0s 8ms/step - loss: 1.7033e-04 - val_loss: 2.4179e-04\n",
      "Epoch 23/80\n",
      "11/11 [==============================] - 0s 8ms/step - loss: 1.7013e-04 - val_loss: 2.5185e-04\n",
      "Epoch 24/80\n",
      "11/11 [==============================] - 0s 8ms/step - loss: 1.7305e-04 - val_loss: 2.4083e-04\n",
      "Epoch 25/80\n",
      "11/11 [==============================] - 0s 7ms/step - loss: 1.6758e-04 - val_loss: 2.3768e-04\n",
      "Epoch 26/80\n",
      "11/11 [==============================] - 0s 8ms/step - loss: 1.7420e-04 - val_loss: 2.3831e-04\n",
      "Epoch 27/80\n",
      "11/11 [==============================] - 0s 6ms/step - loss: 1.6837e-04 - val_loss: 2.3558e-04\n",
      "Epoch 28/80\n",
      "11/11 [==============================] - 0s 11ms/step - loss: 1.6406e-04 - val_loss: 2.3472e-04\n",
      "Epoch 29/80\n",
      "11/11 [==============================] - 0s 7ms/step - loss: 1.6483e-04 - val_loss: 2.3256e-04\n",
      "Epoch 30/80\n",
      "11/11 [==============================] - 0s 8ms/step - loss: 1.6236e-04 - val_loss: 2.3006e-04\n",
      "Epoch 31/80\n",
      "11/11 [==============================] - 0s 7ms/step - loss: 1.6149e-04 - val_loss: 2.2825e-04\n",
      "Epoch 32/80\n",
      "11/11 [==============================] - 0s 16ms/step - loss: 1.6088e-04 - val_loss: 2.3470e-04\n",
      "Epoch 33/80\n",
      "11/11 [==============================] - 0s 10ms/step - loss: 1.6135e-04 - val_loss: 2.3079e-04\n",
      "Epoch 34/80\n",
      "11/11 [==============================] - 0s 7ms/step - loss: 1.6247e-04 - val_loss: 2.2461e-04\n",
      "Epoch 35/80\n",
      "11/11 [==============================] - 0s 8ms/step - loss: 1.5850e-04 - val_loss: 2.2528e-04\n",
      "Epoch 36/80\n",
      "11/11 [==============================] - 0s 8ms/step - loss: 1.5887e-04 - val_loss: 2.3837e-04\n",
      "Epoch 37/80\n",
      "11/11 [==============================] - 0s 7ms/step - loss: 1.6328e-04 - val_loss: 2.1914e-04\n",
      "Epoch 38/80\n",
      "11/11 [==============================] - 0s 7ms/step - loss: 1.5516e-04 - val_loss: 2.2015e-04\n",
      "Epoch 39/80\n",
      "11/11 [==============================] - 0s 8ms/step - loss: 1.5452e-04 - val_loss: 2.1995e-04\n",
      "Epoch 40/80\n",
      "11/11 [==============================] - 0s 9ms/step - loss: 1.5620e-04 - val_loss: 2.1827e-04\n",
      "Epoch 41/80\n",
      "11/11 [==============================] - 0s 7ms/step - loss: 1.5376e-04 - val_loss: 2.1448e-04\n",
      "Epoch 42/80\n",
      "11/11 [==============================] - 0s 16ms/step - loss: 1.5268e-04 - val_loss: 2.1717e-04\n",
      "Epoch 43/80\n",
      "11/11 [==============================] - 0s 11ms/step - loss: 1.5578e-04 - val_loss: 2.1790e-04\n",
      "Epoch 44/80\n",
      "11/11 [==============================] - 0s 8ms/step - loss: 1.5186e-04 - val_loss: 2.2260e-04\n",
      "Epoch 45/80\n",
      "11/11 [==============================] - 0s 10ms/step - loss: 1.5282e-04 - val_loss: 2.0725e-04\n",
      "Epoch 46/80\n",
      "11/11 [==============================] - 0s 11ms/step - loss: 1.5041e-04 - val_loss: 2.0540e-04\n",
      "Epoch 47/80\n",
      "11/11 [==============================] - 0s 6ms/step - loss: 1.4662e-04 - val_loss: 2.0532e-04\n",
      "Epoch 48/80\n",
      "11/11 [==============================] - 0s 6ms/step - loss: 1.4647e-04 - val_loss: 2.0933e-04\n",
      "Epoch 49/80\n",
      "11/11 [==============================] - 0s 7ms/step - loss: 1.4760e-04 - val_loss: 2.0814e-04\n",
      "Epoch 50/80\n",
      "11/11 [==============================] - 0s 9ms/step - loss: 1.4613e-04 - val_loss: 2.0440e-04\n",
      "Epoch 51/80\n",
      "11/11 [==============================] - 0s 6ms/step - loss: 1.4444e-04 - val_loss: 1.9969e-04\n",
      "Epoch 52/80\n",
      "11/11 [==============================] - 0s 8ms/step - loss: 1.4209e-04 - val_loss: 1.9698e-04\n",
      "Epoch 53/80\n",
      "11/11 [==============================] - 0s 8ms/step - loss: 1.4135e-04 - val_loss: 1.9558e-04\n",
      "Epoch 54/80\n",
      "11/11 [==============================] - 0s 8ms/step - loss: 1.3969e-04 - val_loss: 1.9851e-04\n",
      "Epoch 55/80\n",
      "11/11 [==============================] - 0s 8ms/step - loss: 1.4183e-04 - val_loss: 2.0300e-04\n",
      "Epoch 56/80\n",
      "11/11 [==============================] - 0s 8ms/step - loss: 1.4086e-04 - val_loss: 1.9730e-04\n",
      "Epoch 57/80\n",
      "11/11 [==============================] - 0s 8ms/step - loss: 1.3782e-04 - val_loss: 1.9323e-04\n",
      "Epoch 58/80\n",
      "11/11 [==============================] - 0s 12ms/step - loss: 1.3743e-04 - val_loss: 1.9075e-04\n",
      "Epoch 59/80\n",
      "11/11 [==============================] - 0s 14ms/step - loss: 1.3741e-04 - val_loss: 1.8633e-04\n",
      "Epoch 60/80\n",
      "11/11 [==============================] - 0s 7ms/step - loss: 1.3839e-04 - val_loss: 1.9793e-04\n",
      "Epoch 61/80\n",
      "11/11 [==============================] - 0s 8ms/step - loss: 1.4107e-04 - val_loss: 1.8747e-04\n",
      "Epoch 62/80\n",
      "11/11 [==============================] - 0s 17ms/step - loss: 1.3371e-04 - val_loss: 1.8174e-04\n",
      "Epoch 63/80\n",
      "11/11 [==============================] - 0s 6ms/step - loss: 1.3142e-04 - val_loss: 1.8256e-04\n",
      "Epoch 64/80\n",
      "11/11 [==============================] - 0s 6ms/step - loss: 1.3637e-04 - val_loss: 1.8492e-04\n",
      "Epoch 65/80\n",
      "11/11 [==============================] - 0s 8ms/step - loss: 1.3267e-04 - val_loss: 1.7718e-04\n",
      "Epoch 66/80\n",
      "11/11 [==============================] - 0s 7ms/step - loss: 1.2879e-04 - val_loss: 1.7954e-04\n",
      "Epoch 67/80\n",
      "11/11 [==============================] - 0s 13ms/step - loss: 1.3562e-04 - val_loss: 1.7620e-04\n",
      "Epoch 68/80\n",
      "11/11 [==============================] - 0s 16ms/step - loss: 1.3082e-04 - val_loss: 1.7545e-04\n",
      "Epoch 69/80\n",
      "11/11 [==============================] - 0s 7ms/step - loss: 1.2808e-04 - val_loss: 1.8377e-04\n",
      "Epoch 70/80\n",
      "11/11 [==============================] - 0s 8ms/step - loss: 1.2689e-04 - val_loss: 1.7043e-04\n",
      "Epoch 71/80\n",
      "11/11 [==============================] - 0s 8ms/step - loss: 1.2393e-04 - val_loss: 1.7047e-04\n",
      "Epoch 72/80\n",
      "11/11 [==============================] - 0s 10ms/step - loss: 1.2662e-04 - val_loss: 1.8221e-04\n",
      "Epoch 73/80\n",
      "11/11 [==============================] - 0s 8ms/step - loss: 1.3099e-04 - val_loss: 1.7241e-04\n",
      "Epoch 74/80\n",
      "11/11 [==============================] - 0s 8ms/step - loss: 1.2396e-04 - val_loss: 1.6523e-04\n",
      "Epoch 75/80\n",
      "11/11 [==============================] - 0s 13ms/step - loss: 1.2376e-04 - val_loss: 1.6503e-04\n",
      "Epoch 76/80\n",
      "11/11 [==============================] - 0s 6ms/step - loss: 1.2156e-04 - val_loss: 1.6167e-04\n",
      "Epoch 77/80\n",
      "11/11 [==============================] - 0s 8ms/step - loss: 1.2803e-04 - val_loss: 1.6338e-04\n"
     ]
    },
    {
     "name": "stdout",
     "output_type": "stream",
     "text": [
      "Epoch 78/80\n",
      "11/11 [==============================] - 0s 15ms/step - loss: 1.1864e-04 - val_loss: 1.6021e-04\n",
      "Epoch 79/80\n",
      "11/11 [==============================] - 0s 18ms/step - loss: 1.1857e-04 - val_loss: 1.5801e-04\n",
      "Epoch 80/80\n",
      "11/11 [==============================] - 0s 15ms/step - loss: 1.1603e-04 - val_loss: 1.5710e-04\n"
     ]
    }
   ],
   "source": [
    "\n",
    "\n",
    "model = keras.models.Sequential([\n",
    "    # keras.layers.Flatten(input_shape=[6, 1]),\n",
    "    keras.layers.Dense(1,input_shape=[6]),\n",
    "])\n",
    "\n",
    "optimizer = keras.optimizers.Adam(learning_rate=0.01)\n",
    "\n",
    "model.compile(loss=\"mse\", optimizer=optimizer)\n",
    "history = model.fit(\n",
    "    X_train,\n",
    "    y_train,\n",
    "    epochs=80, #20\n",
    "    batch_size=128, #128\n",
    "    validation_data=(X_valid, y_valid),\n",
    ")"
   ]
  },
  {
   "cell_type": "code",
   "execution_count": 145,
   "metadata": {
    "colab": {
     "base_uri": "https://localhost:8080/"
    },
    "id": "cPoZFdGhTGOd",
    "outputId": "cc1224c9-821f-43f4-c1ed-c8ae2767fdb1"
   },
   "outputs": [
    {
     "name": "stdout",
     "output_type": "stream",
     "text": [
      "12/12 [==============================] - 0s 3ms/step - loss: 1.5710e-04\n"
     ]
    },
    {
     "data": {
      "text/plain": [
       "0.00015710273873992264"
      ]
     },
     "execution_count": 145,
     "metadata": {},
     "output_type": "execute_result"
    }
   ],
   "source": [
    "model.evaluate(X_valid, y_valid) #Erro medio quadratico"
   ]
  },
  {
   "cell_type": "code",
   "execution_count": 146,
   "metadata": {
    "colab": {
     "base_uri": "https://localhost:8080/"
    },
    "id": "am-ZheXqTIfN",
    "outputId": "cdc07979-787b-4f2d-88a5-267b40eec809"
   },
   "outputs": [
    {
     "data": {
      "text/plain": [
       "[array([[ 4.7753481e-03],\n",
       "        [ 8.8967069e-04],\n",
       "        [ 2.8130781e-02],\n",
       "        [ 3.3254007e-01],\n",
       "        [-3.4702471e-01],\n",
       "        [ 1.0069396e+00]], dtype=float32),\n",
       " array([-0.00225587], dtype=float32)]"
      ]
     },
     "execution_count": 146,
     "metadata": {},
     "output_type": "execute_result"
    }
   ],
   "source": [
    "model.layers[0].get_weights()"
   ]
  },
  {
   "cell_type": "code",
   "execution_count": 147,
   "metadata": {
    "colab": {
     "base_uri": "https://localhost:8080/",
     "height": 291
    },
    "id": "kp5kD4SYTKdt",
    "outputId": "a7f7f187-c420-4c96-d43e-4be03576de49"
   },
   "outputs": [
    {
     "data": {
      "image/png": "[encoded data removed]",
      "text/plain": [
       "<Figure size 432x288 with 1 Axes>"
      ]
     },
     "metadata": {
      "needs_background": "light"
     },
     "output_type": "display_data"
    }
   ],
   "source": [
    "def plot_learning_curves(loss, val_loss):\n",
    "    plt.plot(np.arange(len(loss)) + 0.5, loss, \"b.-\", label=\"Training loss\")\n",
    "    plt.plot(\n",
    "        np.arange(len(val_loss)) + 1,\n",
    "        val_loss,\n",
    "        \"r.-\",\n",
    "        label=\"Validation loss\",\n",
    "    )\n",
    "    plt.gca().xaxis.set_major_locator(mpl.ticker.MaxNLocator(integer=True))\n",
    "    plt.axis([1, 20, 0, 2])\n",
    "    plt.legend(fontsize=14)\n",
    "    plt.xlabel(\"Epochs\")\n",
    "    plt.ylabel(\"Loss\")\n",
    "    plt.grid(True)\n",
    "\n",
    "\n",
    "plot_learning_curves(history.history[\"loss\"], history.history[\"val_loss\"])\n",
    "plt.show()"
   ]
  },
  {
   "cell_type": "code",
   "execution_count": 148,
   "metadata": {
    "colab": {
     "base_uri": "https://localhost:8080/",
     "height": 305
    },
    "id": "eaT6497FTMHb",
    "outputId": "8d26606c-d04d-419c-b372-84726b4c1765"
   },
   "outputs": [
    {
     "name": "stdout",
     "output_type": "stream",
     "text": [
      "12/12 [==============================] - 0s 4ms/step\n"
     ]
    },
    {
     "data": {
      "image/png": "[encoded data removed]",
      "text/plain": [
       "<Figure size 432x288 with 1 Axes>"
      ]
     },
     "metadata": {
      "needs_background": "light"
     },
     "output_type": "display_data"
    }
   ],
   "source": [
    "y_pred = model.predict(X_valid)\n",
    "plot_series(X_valid[0, :], y_valid[0], y_pred[0])\n",
    "plt.show()"
   ]
  },
  {
   "cell_type": "markdown",
   "metadata": {
    "id": "hw58xN68ldms"
   },
   "source": [
    "Simple RNN"
   ]
  },
  {
   "cell_type": "code",
   "execution_count": 149,
   "metadata": {
    "id": "sTstGeM8fhXd"
   },
   "outputs": [],
   "source": [
    "model = keras.models.Sequential([\n",
    "    keras.layers.SimpleRNN(1, input_shape=[None, 1]),\n",
    "])"
   ]
  },
  {
   "cell_type": "code",
   "execution_count": 150,
   "metadata": {
    "colab": {
     "base_uri": "https://localhost:8080/"
    },
    "id": "pEGcttt_lgXH",
    "outputId": "e84becfc-29cf-419c-9a10-c004f4338155"
   },
   "outputs": [
    {
     "name": "stdout",
     "output_type": "stream",
     "text": [
      "Model: \"sequential_3\"\n",
      "_________________________________________________________________\n",
      " Layer (type)                Output Shape              Param #   \n",
      "=================================================================\n",
      " simple_rnn_1 (SimpleRNN)    (None, 1)                 3         \n",
      "                                                                 \n",
      "=================================================================\n",
      "Total params: 3\n",
      "Trainable params: 3\n",
      "Non-trainable params: 0\n",
      "_________________________________________________________________\n"
     ]
    }
   ],
   "source": [
    "model.summary()"
   ]
  },
  {
   "cell_type": "code",
   "execution_count": null,
   "metadata": {
    "colab": {
     "base_uri": "https://localhost:8080/"
    },
    "id": "oYyZG46_lh7h",
    "outputId": "63161127-f68c-41c2-ec0a-b91df85e2631"
   },
   "outputs": [
    {
     "name": "stdout",
     "output_type": "stream",
     "text": [
      "Epoch 1/80\n",
      "67/67 [==============================] - 3s 10ms/step - loss: 0.0158 - val_loss: 0.0088\n",
      "Epoch 2/80\n",
      "67/67 [==============================] - 0s 5ms/step - loss: 0.0077 - val_loss: 0.0061\n",
      "Epoch 3/80\n",
      "67/67 [==============================] - 0s 5ms/step - loss: 0.0046 - val_loss: 0.0029\n",
      "Epoch 4/80\n",
      "67/67 [==============================] - 0s 7ms/step - loss: 0.0021 - val_loss: 0.0011\n",
      "Epoch 5/80\n",
      "67/67 [==============================] - 0s 6ms/step - loss: 8.5771e-04 - val_loss: 4.3103e-04\n",
      "Epoch 6/80\n",
      "67/67 [==============================] - 0s 6ms/step - loss: 3.9128e-04 - val_loss: 1.6650e-04\n",
      "Epoch 7/80\n",
      "67/67 [==============================] - 0s 7ms/step - loss: 2.2927e-04 - val_loss: 1.1787e-04\n",
      "Epoch 8/80\n",
      "67/67 [==============================] - 1s 9ms/step - loss: 1.8284e-04 - val_loss: 9.8070e-05\n",
      "Epoch 9/80\n",
      "67/67 [==============================] - 1s 8ms/step - loss: 1.7034e-04 - val_loss: 1.0080e-04\n",
      "Epoch 10/80\n",
      "67/67 [==============================] - 1s 7ms/step - loss: 1.6627e-04 - val_loss: 1.0601e-04\n",
      "Epoch 11/80\n",
      "67/67 [==============================] - 0s 7ms/step - loss: 1.6938e-04 - val_loss: 1.1131e-04\n",
      "Epoch 12/80\n",
      "67/67 [==============================] - 0s 6ms/step - loss: 1.6564e-04 - val_loss: 1.1133e-04\n",
      "Epoch 13/80\n",
      "67/67 [==============================] - 0s 7ms/step - loss: 1.6552e-04 - val_loss: 1.0692e-04\n",
      "Epoch 14/80\n",
      "67/67 [==============================] - 1s 8ms/step - loss: 1.6591e-04 - val_loss: 1.1081e-04\n",
      "Epoch 15/80\n",
      "67/67 [==============================] - 1s 8ms/step - loss: 1.6559e-04 - val_loss: 1.0960e-04\n",
      "Epoch 16/80\n",
      "67/67 [==============================] - 0s 7ms/step - loss: 1.6439e-04 - val_loss: 1.0918e-04\n",
      "Epoch 17/80\n",
      "67/67 [==============================] - 0s 6ms/step - loss: 1.6766e-04 - val_loss: 1.1743e-04\n",
      "Epoch 18/80\n",
      "67/67 [==============================] - 1s 8ms/step - loss: 1.6370e-04 - val_loss: 1.0947e-04\n",
      "Epoch 19/80\n",
      "67/67 [==============================] - 0s 7ms/step - loss: 1.6303e-04 - val_loss: 1.0463e-04\n",
      "Epoch 20/80\n",
      "67/67 [==============================] - 1s 8ms/step - loss: 1.6418e-04 - val_loss: 1.0247e-04\n",
      "Epoch 21/80\n",
      "67/67 [==============================] - 0s 6ms/step - loss: 1.6346e-04 - val_loss: 1.0563e-04\n",
      "Epoch 22/80\n",
      "67/67 [==============================] - 1s 8ms/step - loss: 1.6341e-04 - val_loss: 1.1574e-04\n",
      "Epoch 23/80\n",
      "67/67 [==============================] - 0s 7ms/step - loss: 1.6729e-04 - val_loss: 1.1205e-04\n",
      "Epoch 24/80\n",
      "67/67 [==============================] - 0s 7ms/step - loss: 1.7248e-04 - val_loss: 1.2556e-04\n",
      "Epoch 25/80\n",
      "67/67 [==============================] - 1s 9ms/step - loss: 1.6435e-04 - val_loss: 1.1821e-04\n",
      "Epoch 26/80\n",
      "67/67 [==============================] - 1s 9ms/step - loss: 1.6558e-04 - val_loss: 1.0218e-04\n",
      "Epoch 27/80\n",
      "67/67 [==============================] - 0s 7ms/step - loss: 1.6298e-04 - val_loss: 1.0824e-04\n",
      "Epoch 28/80\n",
      "67/67 [==============================] - 0s 5ms/step - loss: 1.6476e-04 - val_loss: 1.1192e-04\n",
      "Epoch 29/80\n",
      "67/67 [==============================] - 0s 5ms/step - loss: 1.6322e-04 - val_loss: 1.0316e-04\n",
      "Epoch 30/80\n",
      "67/67 [==============================] - 0s 5ms/step - loss: 1.6664e-04 - val_loss: 1.0654e-04\n",
      "Epoch 31/80\n",
      "67/67 [==============================] - 0s 6ms/step - loss: 1.6789e-04 - val_loss: 1.2316e-04\n",
      "Epoch 32/80\n",
      "67/67 [==============================] - 0s 5ms/step - loss: 1.6779e-04 - val_loss: 1.0976e-04\n",
      "Epoch 33/80\n",
      "67/67 [==============================] - 0s 5ms/step - loss: 1.6870e-04 - val_loss: 1.0302e-04\n",
      "Epoch 34/80\n",
      "67/67 [==============================] - 0s 5ms/step - loss: 1.6769e-04 - val_loss: 1.1303e-04\n",
      "Epoch 35/80\n",
      "67/67 [==============================] - 0s 7ms/step - loss: 1.6410e-04 - val_loss: 1.3548e-04\n",
      "Epoch 36/80\n",
      "67/67 [==============================] - 0s 5ms/step - loss: 1.6854e-04 - val_loss: 1.0516e-04\n",
      "Epoch 37/80\n",
      "67/67 [==============================] - 0s 6ms/step - loss: 1.7273e-04 - val_loss: 1.0138e-04\n",
      "Epoch 38/80\n",
      "67/67 [==============================] - 1s 8ms/step - loss: 1.6711e-04 - val_loss: 9.9509e-05\n",
      "Epoch 39/80\n",
      "67/67 [==============================] - 1s 8ms/step - loss: 1.6746e-04 - val_loss: 1.1970e-04\n",
      "Epoch 40/80\n",
      "67/67 [==============================] - 0s 5ms/step - loss: 1.6708e-04 - val_loss: 1.0116e-04\n",
      "Epoch 41/80\n",
      "67/67 [==============================] - 1s 8ms/step - loss: 1.6554e-04 - val_loss: 9.7266e-05\n",
      "Epoch 42/80\n",
      "67/67 [==============================] - 0s 6ms/step - loss: 1.6944e-04 - val_loss: 1.0863e-04\n",
      "Epoch 43/80\n",
      "36/67 [===============>..............] - ETA: 0s - loss: 2.3602e-04"
     ]
    }
   ],
   "source": [
    "optimizer = keras.optimizers.Adam(learning_rate=0.01)\n",
    "model.compile(loss=\"mse\", optimizer=optimizer)\n",
    "history = model.fit(\n",
    "    X_train,\n",
    "    y_train,\n",
    "    epochs=80, #20\n",
    "    batch_size=20, #180\n",
    "    validation_data=(X_valid, y_valid),\n",
    ")"
   ]
  },
  {
   "cell_type": "code",
   "execution_count": null,
   "metadata": {
    "colab": {
     "base_uri": "https://localhost:8080/"
    },
    "id": "a-M6WPwalknj",
    "outputId": "576aa36c-74cd-4ce1-fd32-bc3e4483786a"
   },
   "outputs": [],
   "source": [
    "model.evaluate(X_valid, y_valid) #"
   ]
  },
  {
   "cell_type": "code",
   "execution_count": null,
   "metadata": {
    "colab": {
     "base_uri": "https://localhost:8080/"
    },
    "id": "tWi6P4Scln7H",
    "outputId": "3a7e0dbd-817f-4584-e887-7ffd7ac64e38"
   },
   "outputs": [],
   "source": [
    "model.layers[0].get_weights()"
   ]
  },
  {
   "cell_type": "code",
   "execution_count": null,
   "metadata": {
    "colab": {
     "base_uri": "https://localhost:8080/",
     "height": 291
    },
    "id": "h2KA7QR1lpzu",
    "outputId": "ccb0657f-4fd9-46cc-d2ea-1d0b6322bb7b"
   },
   "outputs": [],
   "source": [
    "plot_learning_curves(history.history[\"loss\"], history.history[\"val_loss\"])\n",
    "plt.show()"
   ]
  },
  {
   "cell_type": "code",
   "execution_count": null,
   "metadata": {
    "colab": {
     "base_uri": "https://localhost:8080/",
     "height": 305
    },
    "id": "meVgghPwlsL1",
    "outputId": "671939ba-8300-402b-b859-22aa20a0c5c2"
   },
   "outputs": [],
   "source": [
    "y_pred = model.predict(X_valid)\n",
    "plot_series(X_valid[0, :], y_valid[0], y_pred[0])\n",
    "plt.show()"
   ]
  },
  {
   "cell_type": "code",
   "execution_count": null,
   "metadata": {
    "id": "WxrHE3dBlzPf"
   },
   "outputs": [],
   "source": []
  },
  {
   "cell_type": "code",
   "execution_count": null,
   "metadata": {},
   "outputs": [],
   "source": []
  }
 ],
 "metadata": {
  "colab": {
   "provenance": []
  },
  "kernelspec": {
   "display_name": "Python 3",
   "language": "python",
   "name": "python3"
  },
  "language_info": {
   "codemirror_mode": {
    "name": "ipython",
    "version": 3
   },
   "file_extension": ".py",
   "mimetype": "text/x-python",
   "name": "python",
   "nbconvert_exporter": "python",
   "pygments_lexer": "ipython3",
   "version": "3.8.5"
  }
 },
 "nbformat": 4,
 "nbformat_minor": 1
}
