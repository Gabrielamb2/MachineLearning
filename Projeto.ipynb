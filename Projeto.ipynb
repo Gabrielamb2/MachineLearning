{
 "cells": [
  {
   "cell_type": "markdown",
   "metadata": {
    "colab_type": "text",
    "id": "view-in-github"
   },
   "source": [
    "<a href=\"https://colab.research.google.com/github/Gabrielamb2/MachineLearning/blob/main/Projeto.ipynb\" target=\"_parent\"><img src=\"https://colab.research.google.com/assets/colab-badge.svg\" alt=\"Open In Colab\"/></a>"
   ]
  },
  {
   "cell_type": "code",
   "execution_count": 36,
   "metadata": {},
   "outputs": [],
   "source": [
    "import numpy as np\n",
    "import pandas as pd\n",
    "import matplotlib.pyplot as plt\n",
    "import seaborn as sns\n",
    "\n",
    "RANDOM_SEED = 42\n",
    "np.random.seed(RANDOM_SEED)"
   ]
  },
  {
   "cell_type": "code",
   "execution_count": 53,
   "metadata": {
    "scrolled": true
   },
   "outputs": [
    {
     "name": "stdout",
     "output_type": "stream",
     "text": [
      "Collecting geopandas\n",
      "  Downloading geopandas-0.12.1-py3-none-any.whl (1.1 MB)\n",
      "Requirement already satisfied: pandas>=1.0.0 in c:\\users\\user\\anaconda3\\lib\\site-packages (from geopandas) (1.1.3)\n",
      "Requirement already satisfied: packaging in c:\\users\\user\\anaconda3\\lib\\site-packages (from geopandas) (20.4)\n",
      "Collecting fiona>=1.8\n",
      "  Downloading Fiona-1.8.22-cp38-cp38-win_amd64.whl (21.7 MB)\n",
      "Collecting shapely>=1.7\n",
      "  Downloading Shapely-1.8.5.post1-cp38-cp38-win_amd64.whl (1.3 MB)\n",
      "Collecting pyproj>=2.6.1.post1\n",
      "  Downloading pyproj-3.4.0-cp38-cp38-win_amd64.whl (4.8 MB)\n",
      "Requirement already satisfied: numpy>=1.15.4 in c:\\users\\user\\anaconda3\\lib\\site-packages (from pandas>=1.0.0->geopandas) (1.23.2)\n",
      "Requirement already satisfied: pytz>=2017.2 in c:\\users\\user\\anaconda3\\lib\\site-packages (from pandas>=1.0.0->geopandas) (2020.1)\n",
      "Requirement already satisfied: python-dateutil>=2.7.3 in c:\\users\\user\\anaconda3\\lib\\site-packages (from pandas>=1.0.0->geopandas) (2.8.1)\n",
      "Requirement already satisfied: pyparsing>=2.0.2 in c:\\users\\user\\anaconda3\\lib\\site-packages (from packaging->geopandas) (2.4.7)\n",
      "Requirement already satisfied: six in c:\\users\\user\\anaconda3\\lib\\site-packages (from packaging->geopandas) (1.16.0)\n",
      "Requirement already satisfied: setuptools in c:\\users\\user\\anaconda3\\lib\\site-packages (from fiona>=1.8->geopandas) (50.3.1.post20201107)\n",
      "Collecting munch\n",
      "  Downloading munch-2.5.0-py2.py3-none-any.whl (10 kB)\n",
      "Collecting cligj>=0.5\n",
      "  Downloading cligj-0.7.2-py3-none-any.whl (7.1 kB)\n",
      "Collecting click-plugins>=1.0\n",
      "  Downloading click_plugins-1.1.1-py2.py3-none-any.whl (7.5 kB)\n",
      "Requirement already satisfied: click>=4.0 in c:\\users\\user\\anaconda3\\lib\\site-packages (from fiona>=1.8->geopandas) (7.1.2)\n",
      "Requirement already satisfied: certifi in c:\\users\\user\\anaconda3\\lib\\site-packages (from fiona>=1.8->geopandas) (2020.6.20)\n",
      "Requirement already satisfied: attrs>=17 in c:\\users\\user\\anaconda3\\lib\\site-packages (from fiona>=1.8->geopandas) (20.3.0)\n",
      "Installing collected packages: munch, cligj, click-plugins, fiona, shapely, pyproj, geopandas\n",
      "Successfully installed click-plugins-1.1.1 cligj-0.7.2 fiona-1.8.22 geopandas-0.12.1 munch-2.5.0 pyproj-3.4.0 shapely-1.8.5.post1\n"
     ]
    }
   ],
   "source": [
    "!pip install geopandas"
   ]
  },
  {
   "cell_type": "code",
   "execution_count": 55,
   "metadata": {},
   "outputs": [
    {
     "name": "stdout",
     "output_type": "stream",
     "text": [
      "Collecting folium\n",
      "  Downloading folium-0.13.0-py2.py3-none-any.whl (96 kB)\n",
      "Requirement already satisfied: numpy in c:\\users\\user\\anaconda3\\lib\\site-packages (from folium) (1.23.2)\n",
      "Collecting branca>=0.3.0\n",
      "  Downloading branca-0.6.0-py3-none-any.whl (24 kB)\n",
      "Requirement already satisfied: requests in c:\\users\\user\\anaconda3\\lib\\site-packages (from folium) (2.25.1)\n",
      "Requirement already satisfied: jinja2>=2.9 in c:\\users\\user\\anaconda3\\lib\\site-packages (from folium) (2.11.2)\n",
      "Requirement already satisfied: chardet<5,>=3.0.2 in c:\\users\\user\\anaconda3\\lib\\site-packages (from requests->folium) (3.0.4)\n",
      "Requirement already satisfied: urllib3<1.27,>=1.21.1 in c:\\users\\user\\anaconda3\\lib\\site-packages (from requests->folium) (1.26.4)\n",
      "Requirement already satisfied: certifi>=2017.4.17 in c:\\users\\user\\anaconda3\\lib\\site-packages (from requests->folium) (2020.6.20)\n",
      "Requirement already satisfied: idna<3,>=2.5 in c:\\users\\user\\anaconda3\\lib\\site-packages (from requests->folium) (2.10)\n",
      "Requirement already satisfied: MarkupSafe>=0.23 in c:\\users\\user\\anaconda3\\lib\\site-packages (from jinja2>=2.9->folium) (1.1.1)\n",
      "Installing collected packages: branca, folium\n",
      "Successfully installed branca-0.6.0 folium-0.13.0\n"
     ]
    }
   ],
   "source": [
    "!pip install folium"
   ]
  },
  {
   "cell_type": "code",
   "execution_count": 56,
   "metadata": {},
   "outputs": [],
   "source": [
    "#general\n",
    "import os\n",
    "import numpy as np\n",
    "import pandas as pd \n",
    "\n",
    "#plotting \n",
    "import matplotlib.pyplot as plt \n",
    "from matplotlib.colors import ListedColormap\n",
    "\n",
    "#mapping\n",
    "import geopandas as gpd \n",
    "import folium\n",
    "from folium.plugins import MarkerCluster,HeatMap,HeatMapWithTime\n",
    "import branca.colormap as colormap\n",
    "from collections import defaultdict"
   ]
  },
  {
   "cell_type": "code",
   "execution_count": 37,
   "metadata": {
    "id": "ilhViUUSKVKW"
   },
   "outputs": [],
   "source": [
    "microplastics_path = \"../MICROPLASTIC_DATA_BASED_ON_LAT_LONG/\"\n",
    "microplastics_path_adv = microplastics_path+ \"ADVENTURE_MICRO_FROM_SCIENTIST.csv\"\n",
    "microplastics_path_geo = microplastics_path+ \"GEOMARINE_MICRO.csv\"\n",
    "microplastics_path_sea = microplastics_path+ \"SEA_MICRO.csv\""
   ]
  },
  {
   "cell_type": "code",
   "execution_count": 38,
   "metadata": {
    "scrolled": false
   },
   "outputs": [
    {
     "data": {
      "text/plain": [
       "['ADVENTURE_MICRO_FROM_SCIENTIST.csv', 'GEOMARINE_MICRO.csv', 'SEA_MICRO.csv']"
      ]
     },
     "execution_count": 38,
     "metadata": {},
     "output_type": "execute_result"
    }
   ],
   "source": [
    "import os\n",
    "os.listdir(microplastics_path)"
   ]
  },
  {
   "cell_type": "code",
   "execution_count": 39,
   "metadata": {},
   "outputs": [
    {
     "data": {
      "text/plain": [
       "'../MICROPLASTIC_DATA_BASED_ON_LAT_LONG/SEA_MICRO.csv'"
      ]
     },
     "execution_count": 39,
     "metadata": {},
     "output_type": "execute_result"
    }
   ],
   "source": [
    "microplastics_path_sea"
   ]
  },
  {
   "cell_type": "code",
   "execution_count": 40,
   "metadata": {
    "scrolled": true
   },
   "outputs": [],
   "source": [
    "df_microplatic_sea = pd.read_csv(microplastics_path_geo)"
   ]
  },
  {
   "cell_type": "code",
   "execution_count": 41,
   "metadata": {},
   "outputs": [
    {
     "data": {
      "text/html": [
       "<div>\n",
       "<style scoped>\n",
       "    .dataframe tbody tr th:only-of-type {\n",
       "        vertical-align: middle;\n",
       "    }\n",
       "\n",
       "    .dataframe tbody tr th {\n",
       "        vertical-align: top;\n",
       "    }\n",
       "\n",
       "    .dataframe thead th {\n",
       "        text-align: right;\n",
       "    }\n",
       "</style>\n",
       "<table border=\"1\" class=\"dataframe\">\n",
       "  <thead>\n",
       "    <tr style=\"text-align: right;\">\n",
       "      <th></th>\n",
       "      <th>0</th>\n",
       "      <th>1</th>\n",
       "      <th>2</th>\n",
       "      <th>3</th>\n",
       "      <th>4</th>\n",
       "    </tr>\n",
       "  </thead>\n",
       "  <tbody>\n",
       "    <tr>\n",
       "      <th>Date</th>\n",
       "      <td>2017-10-01</td>\n",
       "      <td>2017-10-01</td>\n",
       "      <td>2017-10-01</td>\n",
       "      <td>2017-10-23</td>\n",
       "      <td>2017-10-25</td>\n",
       "    </tr>\n",
       "    <tr>\n",
       "      <th>Latitude</th>\n",
       "      <td>38.3358</td>\n",
       "      <td>36.7964</td>\n",
       "      <td>36.7072</td>\n",
       "      <td>36.1165</td>\n",
       "      <td>35.3927</td>\n",
       "    </tr>\n",
       "    <tr>\n",
       "      <th>Longitude</th>\n",
       "      <td>-9.25006</td>\n",
       "      <td>-7.94414</td>\n",
       "      <td>-2.7377</td>\n",
       "      <td>-4.25404</td>\n",
       "      <td>-12.1803</td>\n",
       "    </tr>\n",
       "    <tr>\n",
       "      <th>MP_conc__particles_cubic_metre_</th>\n",
       "      <td>180</td>\n",
       "      <td>307</td>\n",
       "      <td>280</td>\n",
       "      <td>212</td>\n",
       "      <td>63</td>\n",
       "    </tr>\n",
       "    <tr>\n",
       "      <th>Normalized</th>\n",
       "      <td>0.515759</td>\n",
       "      <td>0.879656</td>\n",
       "      <td>0.802292</td>\n",
       "      <td>0.60745</td>\n",
       "      <td>0.180516</td>\n",
       "    </tr>\n",
       "  </tbody>\n",
       "</table>\n",
       "</div>"
      ],
      "text/plain": [
       "                                          0           1           2  \\\n",
       "Date                             2017-10-01  2017-10-01  2017-10-01   \n",
       "Latitude                            38.3358     36.7964     36.7072   \n",
       "Longitude                          -9.25006    -7.94414     -2.7377   \n",
       "MP_conc__particles_cubic_metre_         180         307         280   \n",
       "Normalized                         0.515759    0.879656    0.802292   \n",
       "\n",
       "                                          3           4  \n",
       "Date                             2017-10-23  2017-10-25  \n",
       "Latitude                            36.1165     35.3927  \n",
       "Longitude                          -4.25404    -12.1803  \n",
       "MP_conc__particles_cubic_metre_         212          63  \n",
       "Normalized                          0.60745    0.180516  "
      ]
     },
     "execution_count": 41,
     "metadata": {},
     "output_type": "execute_result"
    }
   ],
   "source": [
    "df_microplatic_sea.head(5).transpose()"
   ]
  },
  {
   "cell_type": "code",
   "execution_count": null,
   "metadata": {},
   "outputs": [],
   "source": []
  },
  {
   "cell_type": "code",
   "execution_count": 65,
   "metadata": {},
   "outputs": [
    {
     "data": {
      "text/html": [
       "<div>\n",
       "<style scoped>\n",
       "    .dataframe tbody tr th:only-of-type {\n",
       "        vertical-align: middle;\n",
       "    }\n",
       "\n",
       "    .dataframe tbody tr th {\n",
       "        vertical-align: top;\n",
       "    }\n",
       "\n",
       "    .dataframe thead th {\n",
       "        text-align: right;\n",
       "    }\n",
       "</style>\n",
       "<table border=\"1\" class=\"dataframe\">\n",
       "  <thead>\n",
       "    <tr style=\"text-align: right;\">\n",
       "      <th></th>\n",
       "      <th>Date</th>\n",
       "      <th>Latitude</th>\n",
       "      <th>Longitude</th>\n",
       "      <th>MP_conc__particles_cubic_metre_</th>\n",
       "      <th>Normalized</th>\n",
       "      <th>year</th>\n",
       "    </tr>\n",
       "  </thead>\n",
       "  <tbody>\n",
       "    <tr>\n",
       "      <th>0</th>\n",
       "      <td>2017-10-01</td>\n",
       "      <td>38.335844</td>\n",
       "      <td>-9.250058</td>\n",
       "      <td>180</td>\n",
       "      <td>0.515759</td>\n",
       "      <td>2017</td>\n",
       "    </tr>\n",
       "    <tr>\n",
       "      <th>1</th>\n",
       "      <td>2017-10-01</td>\n",
       "      <td>36.796376</td>\n",
       "      <td>-7.944142</td>\n",
       "      <td>307</td>\n",
       "      <td>0.879656</td>\n",
       "      <td>2017</td>\n",
       "    </tr>\n",
       "    <tr>\n",
       "      <th>2</th>\n",
       "      <td>2017-10-01</td>\n",
       "      <td>36.707197</td>\n",
       "      <td>-2.737703</td>\n",
       "      <td>280</td>\n",
       "      <td>0.802292</td>\n",
       "      <td>2017</td>\n",
       "    </tr>\n",
       "    <tr>\n",
       "      <th>3</th>\n",
       "      <td>2017-10-23</td>\n",
       "      <td>36.116504</td>\n",
       "      <td>-4.254036</td>\n",
       "      <td>212</td>\n",
       "      <td>0.607450</td>\n",
       "      <td>2017</td>\n",
       "    </tr>\n",
       "    <tr>\n",
       "      <th>4</th>\n",
       "      <td>2017-10-25</td>\n",
       "      <td>35.392750</td>\n",
       "      <td>-12.180278</td>\n",
       "      <td>63</td>\n",
       "      <td>0.180516</td>\n",
       "      <td>2017</td>\n",
       "    </tr>\n",
       "    <tr>\n",
       "      <th>...</th>\n",
       "      <td>...</td>\n",
       "      <td>...</td>\n",
       "      <td>...</td>\n",
       "      <td>...</td>\n",
       "      <td>...</td>\n",
       "      <td>...</td>\n",
       "    </tr>\n",
       "    <tr>\n",
       "      <th>79</th>\n",
       "      <td>2018-07-05</td>\n",
       "      <td>45.986297</td>\n",
       "      <td>-6.709303</td>\n",
       "      <td>7</td>\n",
       "      <td>0.020057</td>\n",
       "      <td>2018</td>\n",
       "    </tr>\n",
       "    <tr>\n",
       "      <th>80</th>\n",
       "      <td>2018-07-06</td>\n",
       "      <td>44.452244</td>\n",
       "      <td>-7.960459</td>\n",
       "      <td>3</td>\n",
       "      <td>0.008596</td>\n",
       "      <td>2018</td>\n",
       "    </tr>\n",
       "    <tr>\n",
       "      <th>81</th>\n",
       "      <td>2018-07-06</td>\n",
       "      <td>42.845245</td>\n",
       "      <td>-9.086077</td>\n",
       "      <td>10</td>\n",
       "      <td>0.028653</td>\n",
       "      <td>2018</td>\n",
       "    </tr>\n",
       "    <tr>\n",
       "      <th>82</th>\n",
       "      <td>2018-07-07</td>\n",
       "      <td>41.097380</td>\n",
       "      <td>-9.139894</td>\n",
       "      <td>3</td>\n",
       "      <td>0.008596</td>\n",
       "      <td>2018</td>\n",
       "    </tr>\n",
       "    <tr>\n",
       "      <th>83</th>\n",
       "      <td>2018-07-07</td>\n",
       "      <td>39.304830</td>\n",
       "      <td>-9.404044</td>\n",
       "      <td>8</td>\n",
       "      <td>0.022923</td>\n",
       "      <td>2018</td>\n",
       "    </tr>\n",
       "  </tbody>\n",
       "</table>\n",
       "<p>84 rows × 6 columns</p>\n",
       "</div>"
      ],
      "text/plain": [
       "         Date   Latitude  Longitude  MP_conc__particles_cubic_metre_  \\\n",
       "0  2017-10-01  38.335844  -9.250058                              180   \n",
       "1  2017-10-01  36.796376  -7.944142                              307   \n",
       "2  2017-10-01  36.707197  -2.737703                              280   \n",
       "3  2017-10-23  36.116504  -4.254036                              212   \n",
       "4  2017-10-25  35.392750 -12.180278                               63   \n",
       "..        ...        ...        ...                              ...   \n",
       "79 2018-07-05  45.986297  -6.709303                                7   \n",
       "80 2018-07-06  44.452244  -7.960459                                3   \n",
       "81 2018-07-06  42.845245  -9.086077                               10   \n",
       "82 2018-07-07  41.097380  -9.139894                                3   \n",
       "83 2018-07-07  39.304830  -9.404044                                8   \n",
       "\n",
       "    Normalized  year  \n",
       "0     0.515759  2017  \n",
       "1     0.879656  2017  \n",
       "2     0.802292  2017  \n",
       "3     0.607450  2017  \n",
       "4     0.180516  2017  \n",
       "..         ...   ...  \n",
       "79    0.020057  2018  \n",
       "80    0.008596  2018  \n",
       "81    0.028653  2018  \n",
       "82    0.008596  2018  \n",
       "83    0.022923  2018  \n",
       "\n",
       "[84 rows x 6 columns]"
      ]
     },
     "execution_count": 65,
     "metadata": {},
     "output_type": "execute_result"
    }
   ],
   "source": [
    "def format_date(df):\n",
    "    df['Date'] =pd.to_datetime(df['Date'],errors='coerce')\n",
    "    df['year'] = df['Date'].dt.year\n",
    "    return df\n",
    "\n",
    "format_date(df_microplatic_sea)"
   ]
  },
  {
   "cell_type": "code",
   "execution_count": 45,
   "metadata": {},
   "outputs": [
    {
     "data": {
      "text/plain": [
       "Index(['Latitude', 'Longitude', 'MP_conc__particles_cubic_metre_',\n",
       "       'Normalized'],\n",
       "      dtype='object')"
      ]
     },
     "execution_count": 45,
     "metadata": {},
     "output_type": "execute_result"
    }
   ],
   "source": [
    "num_microplatic_sea = df_microplatic_sea.columns.drop('Date')\n",
    "num_microplatic_sea"
   ]
  },
  {
   "cell_type": "code",
   "execution_count": 49,
   "metadata": {},
   "outputs": [
    {
     "data": {
      "image/png": "[encoded data removed]",
      "text/plain": [
       "<Figure size 2160x1440 with 4 Axes>"
      ]
     },
     "metadata": {
      "needs_background": "light"
     },
     "output_type": "display_data"
    }
   ],
   "source": [
    "def verticalLine(plot, x, y, color, nome):\n",
    "    plot.axvline(x, color=color, linestyle=\"dashed\", linewidth=2)\n",
    "    plot.text(1.01*x, y, nome, color=color)    \n",
    "\n",
    "\n",
    "def draw_histograms(dataframe, features, rows, cols):\n",
    "    fig=plt.figure(figsize=(30,20))\n",
    "    for i, feature in enumerate(features):\n",
    "        ax=fig.add_subplot(rows,cols,i+1)\n",
    "        plot1=dataframe[feature].hist(bins=50,ax=ax,color='turquoise', alpha=0.5)\n",
    "        verticalLine(plot1, dataframe[feature].mean(), 5, \"blue\", \"Mean\")\n",
    "        verticalLine(plot1, dataframe[feature].median(), 2, \"indigo\", \"Median\")\n",
    "        ax.set_title('histograma de '+feature,color='DarkRed')\n",
    "        \n",
    "    fig.tight_layout()  \n",
    "    plt.show()\n",
    "draw_histograms(df_microplatic_sea,num_microplatic_sea,2,2)"
   ]
  },
  {
   "cell_type": "code",
   "execution_count": 51,
   "metadata": {},
   "outputs": [
    {
     "data": {
      "image/png": "[encoded data removed]",
      "text/plain": [
       "<Figure size 720x504 with 2 Axes>"
      ]
     },
     "metadata": {
      "needs_background": "light"
     },
     "output_type": "display_data"
    }
   ],
   "source": [
    "df_microplatic_sea.plot(\n",
    "    kind='scatter',\n",
    "    x='Longitude',\n",
    "    y='Latitude',\n",
    "     s=\"MP_conc__particles_cubic_metre_\",\n",
    "    c='Normalized',\n",
    "    cmap=plt.get_cmap('jet'),\n",
    "    colorbar=True,\n",
    "    label='population',\n",
    "    figsize=(10, 7),\n",
    "    alpha=0.4,\n",
    "    sharex=False,\n",
    ")\n",
    "plt.legend()\n",
    "plt.show()"
   ]
  },
  {
   "cell_type": "code",
   "execution_count": 76,
   "metadata": {},
   "outputs": [],
   "source": [
    "def platic_map_visualization(df):\n",
    "\n",
    "    start_loc= (np.mean(df['Latitude']),np.mean(df['Longitude']))\n",
    "\n",
    "    terrain_map=folium.Map(location=start_loc,\n",
    "                  zoom_start=2,\n",
    "                  tiles='Stamen Terrain')\n",
    "\n",
    "    data_dict= defaultdict(list)\n",
    "\n",
    "    for row in df.itertuples():\n",
    "        data_dict[row.Date.month].append([row.Latitude,row.Longitude,row.MP_conc__particles_cubic_metre_])\n",
    "\n",
    "    heatmap=HeatMapWithTime(data=list(data_dict.values()),\n",
    "                    index=list(data_dict.keys()),\n",
    "                    radius=10,\n",
    "                    min_opacity=0.1,\n",
    "                    max_opacity=0.6,\n",
    "                    auto_play=True,\n",
    "                   control=True,\n",
    "                    show=True).add_to(terrain_map)\n",
    "\n",
    "    return terrain_map\n",
    "\n"
   ]
  },
  {
   "cell_type": "code",
   "execution_count": 77,
   "metadata": {},
   "outputs": [
    {
     "data": {
      "text/html": [
       "<div style=\"width:100%;\"><div style=\"position:relative;width:100%;height:0;padding-bottom:60%;\"><span style=\"color:#565656\">Make this Notebook Trusted to load map: File -> Trust Notebook</span><iframe srcdoc=\"&lt;!DOCTYPE html&gt;\n",
       "&lt;html&gt;\n",
       "&lt;head&gt;\n",
       "    \n",
       "    &lt;meta http-equiv=&quot;content-type&quot; content=&quot;text/html; charset=UTF-8&quot; /&gt;\n",
       "    \n",
       "        &lt;script&gt;\n",
       "            L_NO_TOUCH = false;\n",
       "            L_DISABLE_3D = false;\n",
       "        &lt;/script&gt;\n",
       "    \n",
       "    &lt;style&gt;html, body {width: 100%;height: 100%;margin: 0;padding: 0;}&lt;/style&gt;\n",
       "    &lt;style&gt;#map {position:absolute;top:0;bottom:0;right:0;left:0;}&lt;/style&gt;\n",
       "    &lt;script src=&quot;https://cdn.jsdelivr.net/npm/leaflet@1.6.0/dist/leaflet.js&quot;&gt;&lt;/script&gt;\n",
       "    &lt;script src=&quot;https://code.jquery.com/jquery-1.12.4.min.js&quot;&gt;&lt;/script&gt;\n",
       "    &lt;script src=&quot;https://maxcdn.bootstrapcdn.com/bootstrap/3.2.0/js/bootstrap.min.js&quot;&gt;&lt;/script&gt;\n",
       "    &lt;script src=&quot;https://cdnjs.cloudflare.com/ajax/libs/Leaflet.awesome-markers/2.0.2/leaflet.awesome-markers.js&quot;&gt;&lt;/script&gt;\n",
       "    &lt;link rel=&quot;stylesheet&quot; href=&quot;https://cdn.jsdelivr.net/npm/leaflet@1.6.0/dist/leaflet.css&quot;/&gt;\n",
       "    &lt;link rel=&quot;stylesheet&quot; href=&quot;https://maxcdn.bootstrapcdn.com/bootstrap/3.2.0/css/bootstrap.min.css&quot;/&gt;\n",
       "    &lt;link rel=&quot;stylesheet&quot; href=&quot;https://maxcdn.bootstrapcdn.com/bootstrap/3.2.0/css/bootstrap-theme.min.css&quot;/&gt;\n",
       "    &lt;link rel=&quot;stylesheet&quot; href=&quot;https://maxcdn.bootstrapcdn.com/font-awesome/4.6.3/css/font-awesome.min.css&quot;/&gt;\n",
       "    &lt;link rel=&quot;stylesheet&quot; href=&quot;https://cdnjs.cloudflare.com/ajax/libs/Leaflet.awesome-markers/2.0.2/leaflet.awesome-markers.css&quot;/&gt;\n",
       "    &lt;link rel=&quot;stylesheet&quot; href=&quot;https://cdn.jsdelivr.net/gh/python-visualization/folium/folium/templates/leaflet.awesome.rotate.min.css&quot;/&gt;\n",
       "    \n",
       "            &lt;meta name=&quot;viewport&quot; content=&quot;width=device-width,\n",
       "                initial-scale=1.0, maximum-scale=1.0, user-scalable=no&quot; /&gt;\n",
       "            &lt;style&gt;\n",
       "                #map_9f7673b8644df09242a4c8ddd8b2b68a {\n",
       "                    position: relative;\n",
       "                    width: 100.0%;\n",
       "                    height: 100.0%;\n",
       "                    left: 0.0%;\n",
       "                    top: 0.0%;\n",
       "                }\n",
       "            &lt;/style&gt;\n",
       "        \n",
       "    &lt;script src=&quot;https://cdn.jsdelivr.net/npm/iso8601-js-period@0.2.1/iso8601.min.js&quot;&gt;&lt;/script&gt;\n",
       "    &lt;script src=&quot;https://cdn.jsdelivr.net/npm/leaflet-timedimension@1.1.1/dist/leaflet.timedimension.min.js&quot;&gt;&lt;/script&gt;\n",
       "    &lt;script src=&quot;https://cdn.jsdelivr.net/gh/python-visualization/folium/folium/templates/pa7_hm.min.js&quot;&gt;&lt;/script&gt;\n",
       "    &lt;script src=&quot;https://cdn.jsdelivr.net/gh/python-visualization/folium/folium/templates/pa7_leaflet_hm.min.js&quot;&gt;&lt;/script&gt;\n",
       "    &lt;link rel=&quot;stylesheet&quot; href=&quot;https://cdn.jsdelivr.net/npm/leaflet-timedimension@1.1.1/dist/leaflet.timedimension.control.css&quot;/&gt;\n",
       "    \n",
       "            &lt;script&gt;\n",
       "                var TDHeatmap = L.TimeDimension.Layer.extend({\n",
       "\n",
       "            initialize: function(data, options) {\n",
       "                var heatmapCfg = {\n",
       "                    radius: 15,\n",
       "                    blur: 0.8,\n",
       "                    maxOpacity: 1.,\n",
       "                    scaleRadius: false,\n",
       "                    useLocalExtrema: false,\n",
       "                    latField: &#x27;lat&#x27;,\n",
       "                    lngField: &#x27;lng&#x27;,\n",
       "                    valueField: &#x27;count&#x27;,\n",
       "                    defaultWeight : 1,\n",
       "                };\n",
       "                heatmapCfg = $.extend({}, heatmapCfg, options.heatmapOptions || {});\n",
       "                var layer = new HeatmapOverlay(heatmapCfg);\n",
       "                L.TimeDimension.Layer.prototype.initialize.call(this, layer, options);\n",
       "                this._currentLoadedTime = 0;\n",
       "                this._currentTimeData = {\n",
       "                    data: []\n",
       "                    };\n",
       "                this.data= data;\n",
       "                this.defaultWeight = heatmapCfg.defaultWeight || 1;\n",
       "            },\n",
       "            onAdd: function(map) {\n",
       "                L.TimeDimension.Layer.prototype.onAdd.call(this, map);\n",
       "                map.addLayer(this._baseLayer);\n",
       "                if (this._timeDimension) {\n",
       "                    this._getDataForTime(this._timeDimension.getCurrentTime());\n",
       "                }\n",
       "            },\n",
       "            _onNewTimeLoading: function(ev) {\n",
       "                this._getDataForTime(ev.time);\n",
       "                return;\n",
       "            },\n",
       "            isReady: function(time) {\n",
       "                return (this._currentLoadedTime == time);\n",
       "            },\n",
       "            _update: function() {\n",
       "                this._baseLayer.setData(this._currentTimeData);\n",
       "                return true;\n",
       "            },\n",
       "            _getDataForTime: function(time) {\n",
       "                    delete this._currentTimeData.data;\n",
       "                    this._currentTimeData.data = [];\n",
       "                    var data = this.data[time-1];\n",
       "                    for (var i = 0; i &lt; data.length; i++) {\n",
       "                        this._currentTimeData.data.push({\n",
       "                                lat: data[i][0],\n",
       "                                lng: data[i][1],\n",
       "                                count: data[i].length&gt;2 ? data[i][2] : this.defaultWeight\n",
       "                            });\n",
       "                        }\n",
       "                    this._currentLoadedTime = time;\n",
       "                    if (this._timeDimension &amp;&amp; time == this._timeDimension.getCurrentTime() &amp;&amp; !this._timeDimension.isLoading()) {\n",
       "                        this._update();\n",
       "                    }\n",
       "                    this.fire(&#x27;timeload&#x27;, {\n",
       "                        time: time\n",
       "                    });\n",
       "                }\n",
       "        });\n",
       "\n",
       "        L.Control.TimeDimensionCustom = L.Control.TimeDimension.extend({\n",
       "            initialize: function(index, options) {\n",
       "                var playerOptions = {\n",
       "                    buffer: 1,\n",
       "                    minBufferReady: -1\n",
       "                    };\n",
       "                options.playerOptions = $.extend({}, playerOptions, options.playerOptions || {});\n",
       "                L.Control.TimeDimension.prototype.initialize.call(this, options);\n",
       "                this.index = index;\n",
       "                },\n",
       "            _getDisplayDateFormat: function(date){\n",
       "                return this.index[date.getTime()-1];\n",
       "                }\n",
       "            });\n",
       "            &lt;/script&gt;\n",
       "                \n",
       "&lt;/head&gt;\n",
       "&lt;body&gt;\n",
       "    \n",
       "    \n",
       "            &lt;div class=&quot;folium-map&quot; id=&quot;map_9f7673b8644df09242a4c8ddd8b2b68a&quot; &gt;&lt;/div&gt;\n",
       "        \n",
       "&lt;/body&gt;\n",
       "&lt;script&gt;\n",
       "    \n",
       "    \n",
       "            var map_9f7673b8644df09242a4c8ddd8b2b68a = L.map(\n",
       "                &quot;map_9f7673b8644df09242a4c8ddd8b2b68a&quot;,\n",
       "                {\n",
       "                    center: [4.935123382523806, 23.461076373738106],\n",
       "                    crs: L.CRS.EPSG3857,\n",
       "                    zoom: 2,\n",
       "                    zoomControl: true,\n",
       "                    preferCanvas: false,\n",
       "                }\n",
       "            );\n",
       "\n",
       "            \n",
       "\n",
       "        \n",
       "    \n",
       "            var tile_layer_2de983c019f2009a88ad95e00dbc4e38 = L.tileLayer(\n",
       "                &quot;https://stamen-tiles-{s}.a.ssl.fastly.net/terrain/{z}/{x}/{y}.jpg&quot;,\n",
       "                {&quot;attribution&quot;: &quot;Map tiles by \\u003ca href=\\&quot;http://stamen.com\\&quot;\\u003eStamen Design\\u003c/a\\u003e, under \\u003ca href=\\&quot;http://creativecommons.org/licenses/by/3.0\\&quot;\\u003eCC BY 3.0\\u003c/a\\u003e. Data by \\u0026copy; \\u003ca href=\\&quot;http://openstreetmap.org\\&quot;\\u003eOpenStreetMap\\u003c/a\\u003e, under \\u003ca href=\\&quot;http://creativecommons.org/licenses/by-sa/3.0\\&quot;\\u003eCC BY SA\\u003c/a\\u003e.&quot;, &quot;detectRetina&quot;: false, &quot;maxNativeZoom&quot;: 18, &quot;maxZoom&quot;: 18, &quot;minZoom&quot;: 0, &quot;noWrap&quot;: false, &quot;opacity&quot;: 1, &quot;subdomains&quot;: &quot;abc&quot;, &quot;tms&quot;: false}\n",
       "            ).addTo(map_9f7673b8644df09242a4c8ddd8b2b68a);\n",
       "        \n",
       "    \n",
       "\n",
       "            var times = [1, 2, 3, 4, 5, 6, 7, 8, 9, 10];\n",
       "\n",
       "            map_9f7673b8644df09242a4c8ddd8b2b68a.timeDimension = L.timeDimension(\n",
       "                {times : times, currentTime: new Date(1)}\n",
       "            );\n",
       "\n",
       "            var heat_map_bc9f4aed943164ab0f7dacf00cd8de33Control = new L.Control.TimeDimensionCustom([10, 11, 12, 1, 2, 3, 4, 5, 6, 7], {\n",
       "                autoPlay: true,\n",
       "                backwardButton: true,\n",
       "                displayDate: true,\n",
       "                forwardButton: true,\n",
       "                limitMinimumRange: 5,\n",
       "                limitSliders: true,\n",
       "                loopButton: true,\n",
       "                maxSpeed: 10,\n",
       "                minSpeed: 0.1,\n",
       "                playButton: true,\n",
       "                playReverseButton: true,\n",
       "                position: &quot;bottomleft&quot;,\n",
       "                speedSlider: true,\n",
       "                speedStep: 0.1,\n",
       "                styleNS: &quot;leaflet-control-timecontrol&quot;,\n",
       "                timeSlider: true,\n",
       "                timeSliderDrapUpdate: false,\n",
       "                timeSteps: 1\n",
       "                })\n",
       "                .addTo(map_9f7673b8644df09242a4c8ddd8b2b68a);\n",
       "\n",
       "                var heat_map_bc9f4aed943164ab0f7dacf00cd8de33 = new TDHeatmap([[[38.33584367, -9.250057761, 180], [36.79637593, -7.94414174, 307], [36.70719705, -2.737702628, 280], [36.11650358, -4.254036244, 212], [35.39274966, -12.18027817, 63]], [[34.39345743, -16.063301199999998, 51], [25.68293677, -26.53077932, 11], [14.51371385, -27.90180986, 32], [2.020324769, -27.96697122, 27], [-3.702340255, -30.06770753, 16], [-20.12873915, -33.22076193, 57], [-27.91680978, -30.5185462, 9], [-36.24617949, -16.71753198, 11], [-37.22834811, 1.582325615, 24], [-35.8139245, 16.43256257, 12]], [[-37.15194745, 22.50793716, 46], [-40.42323286, 45.95171058, 2], [-43.90001666, 64.48861031, 21], [-44.82147132, 80.565496, 25], [-45.28631869, 94.16262726, 14], [-46.06886071, 117.2943717, 0], [-42.35296029999999, 140.3311032, 66], [-38.51403442, 144.1639497, 92]], [[-36.47210526, 149.8617931, 87], [-29.62767279, 156.6961747, 39], [-12.41771892, 161.9761696, 20], [-4.56997874, 161.4114899, 23], [3.51620633, 156.75949939999998, 11], [13.89039555, 136.0466733, 48], [19.35054713, 120.8961061, 75]], [[21.50771174, 119.54769180000001, 349], [24.83586794, 127.89111709999999, 243], [8.126695766000001, 153.4172684, 101], [0.454022486, 158.31297519999998, 113], [-8.819366311, 163.0895851, 38], [-14.48828936, 164.6665189, 122], [-20.02325827, 162.63389719999998, 44], [-31.52392294, 164.4412256, 41], [-34.2443115, 170.8554419, 54], [-35.06968228, 173.9483313, 60]], [[-40.05804017, 177.93754019999997, 45], [-49.44373874, 187.10175049999998, 17], [-51.798074299999996, -138.93047280000002, 26], [-53.41744836, -116.8518837, 9], [-55.72040062, -87.38850533, 13], [-53.82278898, -61.05756435, 57]], [[-41.04622894, -51.84657402, 19], [-36.20057535, -49.26664583, 12], [-30.82553317, -47.7509554, 95], [-46.85957326, -52.61753091, 0], [2.168275303, -39.07100713, 29], [-26.31673898, -44.39142247, 79], [-21.66197421, -38.46639475, 7], [-13.77510437, -35.75750473, 24], [-3.102326006, -35.67091975, 26]], [[11.62650182, -52.57372995, 6], [25.42964602, -64.80854611, 27], [31.00444884, -66.51208414, 45], [36.8217248, -69.07893514, 15], [40.37856513, -71.15330698, 36], [40.16178212, -68.30658682, 38], [39.72930758, -60.879887100000005, 13], [41.14987675, -55.66863016, 37], [44.10315523, -45.90691396, 38], [47.68200729, -33.53463156, 32], [51.09788489, -22.0659684, 18], [51.43792474, -16.71638735, 33], [50.4787146, -8.854947133, 35]], [[51.24332031, -4.689368148, 38], [52.25195869, -11.08024754, 0], [55.96732924, -10.70255563, 20], [58.28356717, 3.680577289, 31], [58.35692035, 10.13175615, 112], [57.36290737, 11.06547309, 63], [54.8186422, 6.593258225, 8]], [[51.05224893, 1.5485519159999999, 84], [50.06847221, -0.7519070990000001, 12], [49.27245469, -2.569827811, 26], [48.13621724, -4.685900236, 43], [45.98629712, -6.7093028939999995, 7], [44.45224421, -7.960458611, 3], [42.84524549, -9.086077045, 10], [41.09737989, -9.139894233, 3], [39.30482978, -9.404043668, 8]]],\n",
       "                {heatmapOptions: {\n",
       "                        radius: 10,\n",
       "                        blur: 0.8,\n",
       "                        minOpacity: 0.1,\n",
       "                        maxOpacity: 0.6,\n",
       "                        scaleRadius: false,\n",
       "                        useLocalExtrema: false,\n",
       "                        defaultWeight: 1,\n",
       "                        \n",
       "                    }\n",
       "                })\n",
       "                .addTo(map_9f7673b8644df09242a4c8ddd8b2b68a);\n",
       "\n",
       "        \n",
       "&lt;/script&gt;\n",
       "&lt;/html&gt;\" style=\"position:absolute;width:100%;height:100%;left:0;top:0;border:none !important;\" allowfullscreen webkitallowfullscreen mozallowfullscreen></iframe></div></div>"
      ],
      "text/plain": [
       "<folium.folium.Map at 0x1b6a6907a30>"
      ]
     },
     "execution_count": 77,
     "metadata": {},
     "output_type": "execute_result"
    }
   ],
   "source": [
    "terrain_map = platic_map_visualization(df_microplatic_sea)\n",
    "terrain_map"
   ]
  },
  {
   "cell_type": "code",
   "execution_count": null,
   "metadata": {},
   "outputs": [],
   "source": []
  }
 ],
 "metadata": {
  "colab": {
   "authorship_tag": "ABX9TyOaMIjqsyqvVCthNLfmIXwg",
   "include_colab_link": true,
   "provenance": []
  },
  "kernelspec": {
   "display_name": "Python 3",
   "language": "python",
   "name": "python3"
  },
  "language_info": {
   "codemirror_mode": {
    "name": "ipython",
    "version": 3
   },
   "file_extension": ".py",
   "mimetype": "text/x-python",
   "name": "python",
   "nbconvert_exporter": "python",
   "pygments_lexer": "ipython3",
   "version": "3.8.5"
  }
 },
 "nbformat": 4,
 "nbformat_minor": 1
}
